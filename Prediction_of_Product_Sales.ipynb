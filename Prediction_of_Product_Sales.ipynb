{
  "nbformat": 4,
  "nbformat_minor": 0,
  "metadata": {
    "colab": {
      "provenance": [],
      "collapsed_sections": [
        "7UHr8iU_3ysX",
        "ccvsa8hMMfOQ",
        "rt9Dc_Yvwp_e",
        "d0-ws4Mpcv0C"
      ],
      "toc_visible": true,
      "mount_file_id": "1waQeIGgG72ooXUhc8Ha0tVJdqU1WmqNc",
      "authorship_tag": "ABX9TyPDSLY554oWbx7jw5B+ZHRb",
      "include_colab_link": true
    },
    "kernelspec": {
      "name": "python3",
      "display_name": "Python 3"
    },
    "language_info": {
      "name": "python"
    }
  },
  "cells": [
    {
      "cell_type": "markdown",
      "metadata": {
        "id": "view-in-github",
        "colab_type": "text"
      },
      "source": [
        "<a href=\"https://colab.research.google.com/github/mvidales775/Prediction-of-Product-Sales/blob/main/Prediction_of_Product_Sales.ipynb\" target=\"_parent\"><img src=\"https://colab.research.google.com/assets/colab-badge.svg\" alt=\"Open In Colab\"/></a>"
      ]
    },
    {
      "cell_type": "markdown",
      "source": [
        "<h1>Prediction of Product Sales </h1>\n",
        "<ul>\n",
        "Michael Vidales\n",
        "</ul>"
      ],
      "metadata": {
        "id": "qD-Iz9HHOBIZ"
      }
    },
    {
      "cell_type": "markdown",
      "source": [
        "<h2>Project Overview</h2>\n"
      ],
      "metadata": {
        "id": "8wKtOSDkPtFt"
      }
    },
    {
      "cell_type": "code",
      "source": [],
      "metadata": {
        "id": "ZUnRe34XPwyD"
      },
      "execution_count": null,
      "outputs": []
    },
    {
      "cell_type": "markdown",
      "source": [
        "# Part 1"
      ],
      "metadata": {
        "id": "7UHr8iU_3ysX"
      }
    },
    {
      "cell_type": "markdown",
      "source": [
        "<h2>Load and Inspect Data</h2>"
      ],
      "metadata": {
        "id": "4b25UqiO3_0f"
      }
    },
    {
      "cell_type": "code",
      "source": [
        "import pandas as pd\n",
        "import matplotlib.pyplot as plt\n",
        "import seaborn as sns\n",
        "import warnings\n",
        "warnings.filterwarnings('ignore')\n",
        "sales_2023 = \"/content/drive/MyDrive/CodingDojo/01-Fundamentals/Project 1/sales_predictions_2023.csv\"\n",
        "df = pd.read_csv(sales_2023)"
      ],
      "metadata": {
        "id": "i-ckCF1_LpHh"
      },
      "execution_count": null,
      "outputs": []
    },
    {
      "cell_type": "markdown",
      "source": [
        "- First we'll use both df.info() and df.head() to get a look at the data"
      ],
      "metadata": {
        "id": "_-dwl1JXLEFf"
      }
    },
    {
      "cell_type": "code",
      "source": [
        "df.info()\n",
        "df.head()"
      ],
      "metadata": {
        "colab": {
          "base_uri": "https://localhost:8080/",
          "height": 741
        },
        "id": "mEFvtac-MWUM",
        "outputId": "41bb27eb-6251-44eb-ea04-d19f2b146490"
      },
      "execution_count": null,
      "outputs": [
        {
          "output_type": "stream",
          "name": "stdout",
          "text": [
            "<class 'pandas.core.frame.DataFrame'>\n",
            "RangeIndex: 8523 entries, 0 to 8522\n",
            "Data columns (total 12 columns):\n",
            " #   Column                     Non-Null Count  Dtype  \n",
            "---  ------                     --------------  -----  \n",
            " 0   Item_Identifier            8523 non-null   object \n",
            " 1   Item_Weight                7060 non-null   float64\n",
            " 2   Item_Fat_Content           8523 non-null   object \n",
            " 3   Item_Visibility            8523 non-null   float64\n",
            " 4   Item_Type                  8523 non-null   object \n",
            " 5   Item_MRP                   8523 non-null   float64\n",
            " 6   Outlet_Identifier          8523 non-null   object \n",
            " 7   Outlet_Establishment_Year  8523 non-null   int64  \n",
            " 8   Outlet_Size                6113 non-null   object \n",
            " 9   Outlet_Location_Type       8523 non-null   object \n",
            " 10  Outlet_Type                8523 non-null   object \n",
            " 11  Item_Outlet_Sales          8523 non-null   float64\n",
            "dtypes: float64(4), int64(1), object(7)\n",
            "memory usage: 799.2+ KB\n"
          ]
        },
        {
          "output_type": "execute_result",
          "data": {
            "text/plain": [
              "  Item_Identifier  Item_Weight Item_Fat_Content  Item_Visibility  \\\n",
              "0           FDA15         9.30          Low Fat         0.016047   \n",
              "1           DRC01         5.92          Regular         0.019278   \n",
              "2           FDN15        17.50          Low Fat         0.016760   \n",
              "3           FDX07        19.20          Regular         0.000000   \n",
              "4           NCD19         8.93          Low Fat         0.000000   \n",
              "\n",
              "               Item_Type  Item_MRP Outlet_Identifier  \\\n",
              "0                  Dairy  249.8092            OUT049   \n",
              "1            Soft Drinks   48.2692            OUT018   \n",
              "2                   Meat  141.6180            OUT049   \n",
              "3  Fruits and Vegetables  182.0950            OUT010   \n",
              "4              Household   53.8614            OUT013   \n",
              "\n",
              "   Outlet_Establishment_Year Outlet_Size Outlet_Location_Type  \\\n",
              "0                       1999      Medium               Tier 1   \n",
              "1                       2009      Medium               Tier 3   \n",
              "2                       1999      Medium               Tier 1   \n",
              "3                       1998         NaN               Tier 3   \n",
              "4                       1987        High               Tier 3   \n",
              "\n",
              "         Outlet_Type  Item_Outlet_Sales  \n",
              "0  Supermarket Type1          3735.1380  \n",
              "1  Supermarket Type2           443.4228  \n",
              "2  Supermarket Type1          2097.2700  \n",
              "3      Grocery Store           732.3800  \n",
              "4  Supermarket Type1           994.7052  "
            ],
            "text/html": [
              "\n",
              "  <div id=\"df-edc3ae19-95e9-4258-80ef-024811560b5e\">\n",
              "    <div class=\"colab-df-container\">\n",
              "      <div>\n",
              "<style scoped>\n",
              "    .dataframe tbody tr th:only-of-type {\n",
              "        vertical-align: middle;\n",
              "    }\n",
              "\n",
              "    .dataframe tbody tr th {\n",
              "        vertical-align: top;\n",
              "    }\n",
              "\n",
              "    .dataframe thead th {\n",
              "        text-align: right;\n",
              "    }\n",
              "</style>\n",
              "<table border=\"1\" class=\"dataframe\">\n",
              "  <thead>\n",
              "    <tr style=\"text-align: right;\">\n",
              "      <th></th>\n",
              "      <th>Item_Identifier</th>\n",
              "      <th>Item_Weight</th>\n",
              "      <th>Item_Fat_Content</th>\n",
              "      <th>Item_Visibility</th>\n",
              "      <th>Item_Type</th>\n",
              "      <th>Item_MRP</th>\n",
              "      <th>Outlet_Identifier</th>\n",
              "      <th>Outlet_Establishment_Year</th>\n",
              "      <th>Outlet_Size</th>\n",
              "      <th>Outlet_Location_Type</th>\n",
              "      <th>Outlet_Type</th>\n",
              "      <th>Item_Outlet_Sales</th>\n",
              "    </tr>\n",
              "  </thead>\n",
              "  <tbody>\n",
              "    <tr>\n",
              "      <th>0</th>\n",
              "      <td>FDA15</td>\n",
              "      <td>9.30</td>\n",
              "      <td>Low Fat</td>\n",
              "      <td>0.016047</td>\n",
              "      <td>Dairy</td>\n",
              "      <td>249.8092</td>\n",
              "      <td>OUT049</td>\n",
              "      <td>1999</td>\n",
              "      <td>Medium</td>\n",
              "      <td>Tier 1</td>\n",
              "      <td>Supermarket Type1</td>\n",
              "      <td>3735.1380</td>\n",
              "    </tr>\n",
              "    <tr>\n",
              "      <th>1</th>\n",
              "      <td>DRC01</td>\n",
              "      <td>5.92</td>\n",
              "      <td>Regular</td>\n",
              "      <td>0.019278</td>\n",
              "      <td>Soft Drinks</td>\n",
              "      <td>48.2692</td>\n",
              "      <td>OUT018</td>\n",
              "      <td>2009</td>\n",
              "      <td>Medium</td>\n",
              "      <td>Tier 3</td>\n",
              "      <td>Supermarket Type2</td>\n",
              "      <td>443.4228</td>\n",
              "    </tr>\n",
              "    <tr>\n",
              "      <th>2</th>\n",
              "      <td>FDN15</td>\n",
              "      <td>17.50</td>\n",
              "      <td>Low Fat</td>\n",
              "      <td>0.016760</td>\n",
              "      <td>Meat</td>\n",
              "      <td>141.6180</td>\n",
              "      <td>OUT049</td>\n",
              "      <td>1999</td>\n",
              "      <td>Medium</td>\n",
              "      <td>Tier 1</td>\n",
              "      <td>Supermarket Type1</td>\n",
              "      <td>2097.2700</td>\n",
              "    </tr>\n",
              "    <tr>\n",
              "      <th>3</th>\n",
              "      <td>FDX07</td>\n",
              "      <td>19.20</td>\n",
              "      <td>Regular</td>\n",
              "      <td>0.000000</td>\n",
              "      <td>Fruits and Vegetables</td>\n",
              "      <td>182.0950</td>\n",
              "      <td>OUT010</td>\n",
              "      <td>1998</td>\n",
              "      <td>NaN</td>\n",
              "      <td>Tier 3</td>\n",
              "      <td>Grocery Store</td>\n",
              "      <td>732.3800</td>\n",
              "    </tr>\n",
              "    <tr>\n",
              "      <th>4</th>\n",
              "      <td>NCD19</td>\n",
              "      <td>8.93</td>\n",
              "      <td>Low Fat</td>\n",
              "      <td>0.000000</td>\n",
              "      <td>Household</td>\n",
              "      <td>53.8614</td>\n",
              "      <td>OUT013</td>\n",
              "      <td>1987</td>\n",
              "      <td>High</td>\n",
              "      <td>Tier 3</td>\n",
              "      <td>Supermarket Type1</td>\n",
              "      <td>994.7052</td>\n",
              "    </tr>\n",
              "  </tbody>\n",
              "</table>\n",
              "</div>\n",
              "      <button class=\"colab-df-convert\" onclick=\"convertToInteractive('df-edc3ae19-95e9-4258-80ef-024811560b5e')\"\n",
              "              title=\"Convert this dataframe to an interactive table.\"\n",
              "              style=\"display:none;\">\n",
              "        \n",
              "  <svg xmlns=\"http://www.w3.org/2000/svg\" height=\"24px\"viewBox=\"0 0 24 24\"\n",
              "       width=\"24px\">\n",
              "    <path d=\"M0 0h24v24H0V0z\" fill=\"none\"/>\n",
              "    <path d=\"M18.56 5.44l.94 2.06.94-2.06 2.06-.94-2.06-.94-.94-2.06-.94 2.06-2.06.94zm-11 1L8.5 8.5l.94-2.06 2.06-.94-2.06-.94L8.5 2.5l-.94 2.06-2.06.94zm10 10l.94 2.06.94-2.06 2.06-.94-2.06-.94-.94-2.06-.94 2.06-2.06.94z\"/><path d=\"M17.41 7.96l-1.37-1.37c-.4-.4-.92-.59-1.43-.59-.52 0-1.04.2-1.43.59L10.3 9.45l-7.72 7.72c-.78.78-.78 2.05 0 2.83L4 21.41c.39.39.9.59 1.41.59.51 0 1.02-.2 1.41-.59l7.78-7.78 2.81-2.81c.8-.78.8-2.07 0-2.86zM5.41 20L4 18.59l7.72-7.72 1.47 1.35L5.41 20z\"/>\n",
              "  </svg>\n",
              "      </button>\n",
              "      \n",
              "  <style>\n",
              "    .colab-df-container {\n",
              "      display:flex;\n",
              "      flex-wrap:wrap;\n",
              "      gap: 12px;\n",
              "    }\n",
              "\n",
              "    .colab-df-convert {\n",
              "      background-color: #E8F0FE;\n",
              "      border: none;\n",
              "      border-radius: 50%;\n",
              "      cursor: pointer;\n",
              "      display: none;\n",
              "      fill: #1967D2;\n",
              "      height: 32px;\n",
              "      padding: 0 0 0 0;\n",
              "      width: 32px;\n",
              "    }\n",
              "\n",
              "    .colab-df-convert:hover {\n",
              "      background-color: #E2EBFA;\n",
              "      box-shadow: 0px 1px 2px rgba(60, 64, 67, 0.3), 0px 1px 3px 1px rgba(60, 64, 67, 0.15);\n",
              "      fill: #174EA6;\n",
              "    }\n",
              "\n",
              "    [theme=dark] .colab-df-convert {\n",
              "      background-color: #3B4455;\n",
              "      fill: #D2E3FC;\n",
              "    }\n",
              "\n",
              "    [theme=dark] .colab-df-convert:hover {\n",
              "      background-color: #434B5C;\n",
              "      box-shadow: 0px 1px 3px 1px rgba(0, 0, 0, 0.15);\n",
              "      filter: drop-shadow(0px 1px 2px rgba(0, 0, 0, 0.3));\n",
              "      fill: #FFFFFF;\n",
              "    }\n",
              "  </style>\n",
              "\n",
              "      <script>\n",
              "        const buttonEl =\n",
              "          document.querySelector('#df-edc3ae19-95e9-4258-80ef-024811560b5e button.colab-df-convert');\n",
              "        buttonEl.style.display =\n",
              "          google.colab.kernel.accessAllowed ? 'block' : 'none';\n",
              "\n",
              "        async function convertToInteractive(key) {\n",
              "          const element = document.querySelector('#df-edc3ae19-95e9-4258-80ef-024811560b5e');\n",
              "          const dataTable =\n",
              "            await google.colab.kernel.invokeFunction('convertToInteractive',\n",
              "                                                     [key], {});\n",
              "          if (!dataTable) return;\n",
              "\n",
              "          const docLinkHtml = 'Like what you see? Visit the ' +\n",
              "            '<a target=\"_blank\" href=https://colab.research.google.com/notebooks/data_table.ipynb>data table notebook</a>'\n",
              "            + ' to learn more about interactive tables.';\n",
              "          element.innerHTML = '';\n",
              "          dataTable['output_type'] = 'display_data';\n",
              "          await google.colab.output.renderOutput(dataTable, element);\n",
              "          const docLink = document.createElement('div');\n",
              "          docLink.innerHTML = docLinkHtml;\n",
              "          element.appendChild(docLink);\n",
              "        }\n",
              "      </script>\n",
              "    </div>\n",
              "  </div>\n",
              "  "
            ]
          },
          "metadata": {},
          "execution_count": 2
        }
      ]
    },
    {
      "cell_type": "markdown",
      "source": [
        "- Then use df.dtypes to view each columns datatype"
      ],
      "metadata": {
        "id": "s99X-qo-LGwl"
      }
    },
    {
      "cell_type": "code",
      "source": [
        "df.dtypes"
      ],
      "metadata": {
        "id": "ECUuA5gyPzW9",
        "colab": {
          "base_uri": "https://localhost:8080/"
        },
        "outputId": "a42a05b2-dcb3-494a-9750-a21c12723f02"
      },
      "execution_count": null,
      "outputs": [
        {
          "output_type": "execute_result",
          "data": {
            "text/plain": [
              "Item_Identifier               object\n",
              "Item_Weight                  float64\n",
              "Item_Fat_Content              object\n",
              "Item_Visibility              float64\n",
              "Item_Type                     object\n",
              "Item_MRP                     float64\n",
              "Outlet_Identifier             object\n",
              "Outlet_Establishment_Year      int64\n",
              "Outlet_Size                   object\n",
              "Outlet_Location_Type          object\n",
              "Outlet_Type                   object\n",
              "Item_Outlet_Sales            float64\n",
              "dtype: object"
            ]
          },
          "metadata": {},
          "execution_count": 3
        }
      ]
    },
    {
      "cell_type": "markdown",
      "source": [
        "<h2>Clean Data</h2>\n"
      ],
      "metadata": {
        "id": "1Y1XDYoRPztK"
      }
    },
    {
      "cell_type": "markdown",
      "source": [
        "- To clean the data we'll check for duplicates first"
      ],
      "metadata": {
        "id": "bp76v489LUDr"
      }
    },
    {
      "cell_type": "code",
      "source": [
        "df.duplicated().sum()"
      ],
      "metadata": {
        "colab": {
          "base_uri": "https://localhost:8080/"
        },
        "id": "NAUDiLNINSVr",
        "outputId": "756dc233-ad1a-46b5-f02f-dba98d7abef3"
      },
      "execution_count": null,
      "outputs": [
        {
          "output_type": "execute_result",
          "data": {
            "text/plain": [
              "0"
            ]
          },
          "metadata": {},
          "execution_count": 4
        }
      ]
    },
    {
      "cell_type": "markdown",
      "source": [
        "- Since there are no duplicates we can find all of the null values"
      ],
      "metadata": {
        "id": "SPVVANDcLWHV"
      }
    },
    {
      "cell_type": "code",
      "source": [
        "null_sums = df.isna().sum()\n",
        "null_sums"
      ],
      "metadata": {
        "colab": {
          "base_uri": "https://localhost:8080/"
        },
        "id": "wD5IKJE2NmuJ",
        "outputId": "021f77ed-f73a-4a18-b175-2a0586212740"
      },
      "execution_count": null,
      "outputs": [
        {
          "output_type": "execute_result",
          "data": {
            "text/plain": [
              "Item_Identifier                 0\n",
              "Item_Weight                  1463\n",
              "Item_Fat_Content                0\n",
              "Item_Visibility                 0\n",
              "Item_Type                       0\n",
              "Item_MRP                        0\n",
              "Outlet_Identifier               0\n",
              "Outlet_Establishment_Year       0\n",
              "Outlet_Size                  2410\n",
              "Outlet_Location_Type            0\n",
              "Outlet_Type                     0\n",
              "Item_Outlet_Sales               0\n",
              "dtype: int64"
            ]
          },
          "metadata": {},
          "execution_count": 5
        }
      ]
    },
    {
      "cell_type": "markdown",
      "source": [
        "- Item_Weight has 1463 out 8523\n",
        "- Outlet_Size has 2410 out 8523"
      ],
      "metadata": {
        "id": "i3fZcXCDNtMa"
      }
    },
    {
      "cell_type": "code",
      "source": [
        "null_percent = null_sums/len(df) * 100\n",
        "null_percent[null_percent>0]"
      ],
      "metadata": {
        "colab": {
          "base_uri": "https://localhost:8080/"
        },
        "id": "vW92mHIZOOdv",
        "outputId": "578f6a44-e257-462b-8aa2-a1f42174644d"
      },
      "execution_count": null,
      "outputs": [
        {
          "output_type": "execute_result",
          "data": {
            "text/plain": [
              "Item_Weight    17.165317\n",
              "Outlet_Size    28.276428\n",
              "dtype: float64"
            ]
          },
          "metadata": {},
          "execution_count": 6
        }
      ]
    },
    {
      "cell_type": "markdown",
      "source": [
        "- Item_Weight is missing 17% of values and is numeric\n",
        "  - Will use 'median' to fill null values since This is less affected by outliers than using 'mean'.\n"
      ],
      "metadata": {
        "id": "I3yoNpZQOTL1"
      }
    },
    {
      "cell_type": "code",
      "source": [
        "median_item_weight = df['Item_Weight'].median()\n",
        "df['Item_Weight'].fillna(value = median_item_weight, inplace = True)"
      ],
      "metadata": {
        "id": "ww25TaVdTLa5"
      },
      "execution_count": null,
      "outputs": []
    },
    {
      "cell_type": "markdown",
      "source": [
        "- Outlet_Size is missing 28% of values and is categorical\n",
        "  - Will replace null values with \"UNKNOWN\" since there is not enough missing to justify droping and this will not create bias in favour of a certian size"
      ],
      "metadata": {
        "id": "uv3OoYtXTK56"
      }
    },
    {
      "cell_type": "code",
      "source": [
        "df['Outlet_Size'].fillna(\"UNKNOWN\", inplace = True)"
      ],
      "metadata": {
        "id": "oE2znDKUS152"
      },
      "execution_count": null,
      "outputs": []
    },
    {
      "cell_type": "code",
      "source": [
        "null_sums"
      ],
      "metadata": {
        "colab": {
          "base_uri": "https://localhost:8080/"
        },
        "id": "dkw0V4_mUP0J",
        "outputId": "7732d112-b8fd-4b29-d0cc-b0d244e5a1f9"
      },
      "execution_count": null,
      "outputs": [
        {
          "output_type": "execute_result",
          "data": {
            "text/plain": [
              "Item_Identifier                 0\n",
              "Item_Weight                  1463\n",
              "Item_Fat_Content                0\n",
              "Item_Visibility                 0\n",
              "Item_Type                       0\n",
              "Item_MRP                        0\n",
              "Outlet_Identifier               0\n",
              "Outlet_Establishment_Year       0\n",
              "Outlet_Size                  2410\n",
              "Outlet_Location_Type            0\n",
              "Outlet_Type                     0\n",
              "Item_Outlet_Sales               0\n",
              "dtype: int64"
            ]
          },
          "metadata": {},
          "execution_count": 9
        }
      ]
    },
    {
      "cell_type": "markdown",
      "source": [
        "- Now we can make sure all object values are consistent"
      ],
      "metadata": {
        "id": "LxDc1aIULhhw"
      }
    },
    {
      "cell_type": "code",
      "source": [
        "string_cols = df.select_dtypes(\"object\").columns\n",
        "string_cols\n",
        "\n",
        "for col in string_cols:\n",
        "  print(f\"Value Counts for {col}\")\n",
        "  print(df[col].value_counts())\n",
        "  print('\\n')"
      ],
      "metadata": {
        "colab": {
          "base_uri": "https://localhost:8080/"
        },
        "id": "0JB00DW1VJ2S",
        "outputId": "67265002-890f-422b-92e1-def8d60b9e92"
      },
      "execution_count": null,
      "outputs": [
        {
          "output_type": "stream",
          "name": "stdout",
          "text": [
            "Value Counts for Item_Identifier\n",
            "FDW13    10\n",
            "FDG33    10\n",
            "NCY18     9\n",
            "FDD38     9\n",
            "DRE49     9\n",
            "         ..\n",
            "FDY43     1\n",
            "FDQ60     1\n",
            "FDO33     1\n",
            "DRF48     1\n",
            "FDC23     1\n",
            "Name: Item_Identifier, Length: 1559, dtype: int64\n",
            "\n",
            "\n",
            "Value Counts for Item_Fat_Content\n",
            "Low Fat    5089\n",
            "Regular    2889\n",
            "LF          316\n",
            "reg         117\n",
            "low fat     112\n",
            "Name: Item_Fat_Content, dtype: int64\n",
            "\n",
            "\n",
            "Value Counts for Item_Type\n",
            "Fruits and Vegetables    1232\n",
            "Snack Foods              1200\n",
            "Household                 910\n",
            "Frozen Foods              856\n",
            "Dairy                     682\n",
            "Canned                    649\n",
            "Baking Goods              648\n",
            "Health and Hygiene        520\n",
            "Soft Drinks               445\n",
            "Meat                      425\n",
            "Breads                    251\n",
            "Hard Drinks               214\n",
            "Others                    169\n",
            "Starchy Foods             148\n",
            "Breakfast                 110\n",
            "Seafood                    64\n",
            "Name: Item_Type, dtype: int64\n",
            "\n",
            "\n",
            "Value Counts for Outlet_Identifier\n",
            "OUT027    935\n",
            "OUT013    932\n",
            "OUT049    930\n",
            "OUT046    930\n",
            "OUT035    930\n",
            "OUT045    929\n",
            "OUT018    928\n",
            "OUT017    926\n",
            "OUT010    555\n",
            "OUT019    528\n",
            "Name: Outlet_Identifier, dtype: int64\n",
            "\n",
            "\n",
            "Value Counts for Outlet_Size\n",
            "Medium     2793\n",
            "UNKNOWN    2410\n",
            "Small      2388\n",
            "High        932\n",
            "Name: Outlet_Size, dtype: int64\n",
            "\n",
            "\n",
            "Value Counts for Outlet_Location_Type\n",
            "Tier 3    3350\n",
            "Tier 2    2785\n",
            "Tier 1    2388\n",
            "Name: Outlet_Location_Type, dtype: int64\n",
            "\n",
            "\n",
            "Value Counts for Outlet_Type\n",
            "Supermarket Type1    5577\n",
            "Grocery Store        1083\n",
            "Supermarket Type3     935\n",
            "Supermarket Type2     928\n",
            "Name: Outlet_Type, dtype: int64\n",
            "\n",
            "\n"
          ]
        }
      ]
    },
    {
      "cell_type": "markdown",
      "source": [
        "- Value Counts for Item_Fat_Content needs to be cleaned\n",
        "  - We can add both 'LF' and 'low fat' to 'Low Fat' then add 'reg' to 'Regular'"
      ],
      "metadata": {
        "id": "Ak6jbBZ5eBRi"
      }
    },
    {
      "cell_type": "code",
      "source": [
        "df['Item_Fat_Content'] = df['Item_Fat_Content'].replace({'LF':\"Low Fat\",'low fat':'Low Fat','reg':'Regular'})\n",
        "df['Item_Fat_Content'].value_counts()"
      ],
      "metadata": {
        "colab": {
          "base_uri": "https://localhost:8080/"
        },
        "id": "5s-sz77fXXwP",
        "outputId": "3ac56a39-a4ac-465a-e661-01521031ae02"
      },
      "execution_count": null,
      "outputs": [
        {
          "output_type": "execute_result",
          "data": {
            "text/plain": [
              "Low Fat    5517\n",
              "Regular    3006\n",
              "Name: Item_Fat_Content, dtype: int64"
            ]
          },
          "metadata": {},
          "execution_count": 11
        }
      ]
    },
    {
      "cell_type": "markdown",
      "source": [
        "- Now let's get the summary statistics for the numerical data"
      ],
      "metadata": {
        "id": "_35_3eSmLkdH"
      }
    },
    {
      "cell_type": "markdown",
      "source": [
        "- We can drop all the catagorical data so we only have the numerical data showing\n",
        "  - Then use df.describe() to get the summary"
      ],
      "metadata": {
        "id": "62ZetEtiYAAr"
      }
    },
    {
      "cell_type": "code",
      "source": [
        "df.describe(include=\"number\")"
      ],
      "metadata": {
        "colab": {
          "base_uri": "https://localhost:8080/",
          "height": 311
        },
        "id": "X1Jsfs6DZUkr",
        "outputId": "2fc7994d-bb8b-4681-941b-31e73223a9a3"
      },
      "execution_count": null,
      "outputs": [
        {
          "output_type": "execute_result",
          "data": {
            "text/plain": [
              "       Item_Weight  Item_Visibility     Item_MRP  Outlet_Establishment_Year  \\\n",
              "count   8523.00000      8523.000000  8523.000000                8523.000000   \n",
              "mean      12.81342         0.066132   140.992782                1997.831867   \n",
              "std        4.22724         0.051598    62.275067                   8.371760   \n",
              "min        4.55500         0.000000    31.290000                1985.000000   \n",
              "25%        9.31000         0.026989    93.826500                1987.000000   \n",
              "50%       12.60000         0.053931   143.012800                1999.000000   \n",
              "75%       16.00000         0.094585   185.643700                2004.000000   \n",
              "max       21.35000         0.328391   266.888400                2009.000000   \n",
              "\n",
              "       Item_Outlet_Sales  \n",
              "count        8523.000000  \n",
              "mean         2181.288914  \n",
              "std          1706.499616  \n",
              "min            33.290000  \n",
              "25%           834.247400  \n",
              "50%          1794.331000  \n",
              "75%          3101.296400  \n",
              "max         13086.964800  "
            ],
            "text/html": [
              "\n",
              "  <div id=\"df-f6365556-9f3c-4a2d-a238-11210b777454\">\n",
              "    <div class=\"colab-df-container\">\n",
              "      <div>\n",
              "<style scoped>\n",
              "    .dataframe tbody tr th:only-of-type {\n",
              "        vertical-align: middle;\n",
              "    }\n",
              "\n",
              "    .dataframe tbody tr th {\n",
              "        vertical-align: top;\n",
              "    }\n",
              "\n",
              "    .dataframe thead th {\n",
              "        text-align: right;\n",
              "    }\n",
              "</style>\n",
              "<table border=\"1\" class=\"dataframe\">\n",
              "  <thead>\n",
              "    <tr style=\"text-align: right;\">\n",
              "      <th></th>\n",
              "      <th>Item_Weight</th>\n",
              "      <th>Item_Visibility</th>\n",
              "      <th>Item_MRP</th>\n",
              "      <th>Outlet_Establishment_Year</th>\n",
              "      <th>Item_Outlet_Sales</th>\n",
              "    </tr>\n",
              "  </thead>\n",
              "  <tbody>\n",
              "    <tr>\n",
              "      <th>count</th>\n",
              "      <td>8523.00000</td>\n",
              "      <td>8523.000000</td>\n",
              "      <td>8523.000000</td>\n",
              "      <td>8523.000000</td>\n",
              "      <td>8523.000000</td>\n",
              "    </tr>\n",
              "    <tr>\n",
              "      <th>mean</th>\n",
              "      <td>12.81342</td>\n",
              "      <td>0.066132</td>\n",
              "      <td>140.992782</td>\n",
              "      <td>1997.831867</td>\n",
              "      <td>2181.288914</td>\n",
              "    </tr>\n",
              "    <tr>\n",
              "      <th>std</th>\n",
              "      <td>4.22724</td>\n",
              "      <td>0.051598</td>\n",
              "      <td>62.275067</td>\n",
              "      <td>8.371760</td>\n",
              "      <td>1706.499616</td>\n",
              "    </tr>\n",
              "    <tr>\n",
              "      <th>min</th>\n",
              "      <td>4.55500</td>\n",
              "      <td>0.000000</td>\n",
              "      <td>31.290000</td>\n",
              "      <td>1985.000000</td>\n",
              "      <td>33.290000</td>\n",
              "    </tr>\n",
              "    <tr>\n",
              "      <th>25%</th>\n",
              "      <td>9.31000</td>\n",
              "      <td>0.026989</td>\n",
              "      <td>93.826500</td>\n",
              "      <td>1987.000000</td>\n",
              "      <td>834.247400</td>\n",
              "    </tr>\n",
              "    <tr>\n",
              "      <th>50%</th>\n",
              "      <td>12.60000</td>\n",
              "      <td>0.053931</td>\n",
              "      <td>143.012800</td>\n",
              "      <td>1999.000000</td>\n",
              "      <td>1794.331000</td>\n",
              "    </tr>\n",
              "    <tr>\n",
              "      <th>75%</th>\n",
              "      <td>16.00000</td>\n",
              "      <td>0.094585</td>\n",
              "      <td>185.643700</td>\n",
              "      <td>2004.000000</td>\n",
              "      <td>3101.296400</td>\n",
              "    </tr>\n",
              "    <tr>\n",
              "      <th>max</th>\n",
              "      <td>21.35000</td>\n",
              "      <td>0.328391</td>\n",
              "      <td>266.888400</td>\n",
              "      <td>2009.000000</td>\n",
              "      <td>13086.964800</td>\n",
              "    </tr>\n",
              "  </tbody>\n",
              "</table>\n",
              "</div>\n",
              "      <button class=\"colab-df-convert\" onclick=\"convertToInteractive('df-f6365556-9f3c-4a2d-a238-11210b777454')\"\n",
              "              title=\"Convert this dataframe to an interactive table.\"\n",
              "              style=\"display:none;\">\n",
              "        \n",
              "  <svg xmlns=\"http://www.w3.org/2000/svg\" height=\"24px\"viewBox=\"0 0 24 24\"\n",
              "       width=\"24px\">\n",
              "    <path d=\"M0 0h24v24H0V0z\" fill=\"none\"/>\n",
              "    <path d=\"M18.56 5.44l.94 2.06.94-2.06 2.06-.94-2.06-.94-.94-2.06-.94 2.06-2.06.94zm-11 1L8.5 8.5l.94-2.06 2.06-.94-2.06-.94L8.5 2.5l-.94 2.06-2.06.94zm10 10l.94 2.06.94-2.06 2.06-.94-2.06-.94-.94-2.06-.94 2.06-2.06.94z\"/><path d=\"M17.41 7.96l-1.37-1.37c-.4-.4-.92-.59-1.43-.59-.52 0-1.04.2-1.43.59L10.3 9.45l-7.72 7.72c-.78.78-.78 2.05 0 2.83L4 21.41c.39.39.9.59 1.41.59.51 0 1.02-.2 1.41-.59l7.78-7.78 2.81-2.81c.8-.78.8-2.07 0-2.86zM5.41 20L4 18.59l7.72-7.72 1.47 1.35L5.41 20z\"/>\n",
              "  </svg>\n",
              "      </button>\n",
              "      \n",
              "  <style>\n",
              "    .colab-df-container {\n",
              "      display:flex;\n",
              "      flex-wrap:wrap;\n",
              "      gap: 12px;\n",
              "    }\n",
              "\n",
              "    .colab-df-convert {\n",
              "      background-color: #E8F0FE;\n",
              "      border: none;\n",
              "      border-radius: 50%;\n",
              "      cursor: pointer;\n",
              "      display: none;\n",
              "      fill: #1967D2;\n",
              "      height: 32px;\n",
              "      padding: 0 0 0 0;\n",
              "      width: 32px;\n",
              "    }\n",
              "\n",
              "    .colab-df-convert:hover {\n",
              "      background-color: #E2EBFA;\n",
              "      box-shadow: 0px 1px 2px rgba(60, 64, 67, 0.3), 0px 1px 3px 1px rgba(60, 64, 67, 0.15);\n",
              "      fill: #174EA6;\n",
              "    }\n",
              "\n",
              "    [theme=dark] .colab-df-convert {\n",
              "      background-color: #3B4455;\n",
              "      fill: #D2E3FC;\n",
              "    }\n",
              "\n",
              "    [theme=dark] .colab-df-convert:hover {\n",
              "      background-color: #434B5C;\n",
              "      box-shadow: 0px 1px 3px 1px rgba(0, 0, 0, 0.15);\n",
              "      filter: drop-shadow(0px 1px 2px rgba(0, 0, 0, 0.3));\n",
              "      fill: #FFFFFF;\n",
              "    }\n",
              "  </style>\n",
              "\n",
              "      <script>\n",
              "        const buttonEl =\n",
              "          document.querySelector('#df-f6365556-9f3c-4a2d-a238-11210b777454 button.colab-df-convert');\n",
              "        buttonEl.style.display =\n",
              "          google.colab.kernel.accessAllowed ? 'block' : 'none';\n",
              "\n",
              "        async function convertToInteractive(key) {\n",
              "          const element = document.querySelector('#df-f6365556-9f3c-4a2d-a238-11210b777454');\n",
              "          const dataTable =\n",
              "            await google.colab.kernel.invokeFunction('convertToInteractive',\n",
              "                                                     [key], {});\n",
              "          if (!dataTable) return;\n",
              "\n",
              "          const docLinkHtml = 'Like what you see? Visit the ' +\n",
              "            '<a target=\"_blank\" href=https://colab.research.google.com/notebooks/data_table.ipynb>data table notebook</a>'\n",
              "            + ' to learn more about interactive tables.';\n",
              "          element.innerHTML = '';\n",
              "          dataTable['output_type'] = 'display_data';\n",
              "          await google.colab.output.renderOutput(dataTable, element);\n",
              "          const docLink = document.createElement('div');\n",
              "          docLink.innerHTML = docLinkHtml;\n",
              "          element.appendChild(docLink);\n",
              "        }\n",
              "      </script>\n",
              "    </div>\n",
              "  </div>\n",
              "  "
            ]
          },
          "metadata": {},
          "execution_count": 12
        }
      ]
    },
    {
      "cell_type": "markdown",
      "source": [
        "<h2>Exploratory Data Analysis</h2>\n"
      ],
      "metadata": {
        "id": "FcIsP4kUP1vK"
      }
    },
    {
      "cell_type": "markdown",
      "source": [
        "Histogram to view the distributions of various features the dataset."
      ],
      "metadata": {
        "id": "j6eesBIQdks0"
      }
    },
    {
      "cell_type": "code",
      "source": [
        "ax = sns.histplot(data=df, x=\"Item_Type\")\n",
        "ax.tick_params(axis='x', rotation = 90);"
      ],
      "metadata": {
        "colab": {
          "base_uri": "https://localhost:8080/",
          "height": 585
        },
        "id": "p-pKw1bAdu8x",
        "outputId": "0cce83d2-487a-4d7e-dacd-91377784f070"
      },
      "execution_count": null,
      "outputs": [
        {
          "output_type": "display_data",
          "data": {
            "text/plain": [
              "<Figure size 640x480 with 1 Axes>"
            ],
            "image/png": "[encoded data removed]"
          },
          "metadata": {}
        }
      ]
    },
    {
      "cell_type": "code",
      "source": [
        "ax = sns.histplot(data=df, x='Item_Visibility')\n",
        "ax.tick_params(axis='x', rotation = 90);"
      ],
      "metadata": {
        "colab": {
          "base_uri": "https://localhost:8080/",
          "height": 466
        },
        "id": "Qr0-Um7seOzB",
        "outputId": "727f4e82-3979-4e44-ce15-6cbf28916881"
      },
      "execution_count": null,
      "outputs": [
        {
          "output_type": "display_data",
          "data": {
            "text/plain": [
              "<Figure size 640x480 with 1 Axes>"
            ],
            "image/png": "[encoded data removed]"
          },
          "metadata": {}
        }
      ]
    },
    {
      "cell_type": "code",
      "source": [
        "ax = sns.histplot(data=df, x='Item_MRP')\n",
        "ax.tick_params(axis='x', rotation = 90);"
      ],
      "metadata": {
        "colab": {
          "base_uri": "https://localhost:8080/",
          "height": 462
        },
        "id": "lfjEviYZeOjj",
        "outputId": "803ccced-3eda-4de3-e66b-b31c5d1a1f39"
      },
      "execution_count": null,
      "outputs": [
        {
          "output_type": "display_data",
          "data": {
            "text/plain": [
              "<Figure size 640x480 with 1 Axes>"
            ],
            "image/png": "[encoded data removed]"
          },
          "metadata": {}
        }
      ]
    },
    {
      "cell_type": "code",
      "source": [
        "ax = sns.histplot(data=df, x='Item_Outlet_Sales')\n",
        "ax.tick_params(axis='x', rotation = 90);"
      ],
      "metadata": {
        "colab": {
          "base_uri": "https://localhost:8080/",
          "height": 479
        },
        "id": "E8sobxgNeN-q",
        "outputId": "02cdaaee-6c2f-403b-8850-ab8db39fdfbb"
      },
      "execution_count": null,
      "outputs": [
        {
          "output_type": "display_data",
          "data": {
            "text/plain": [
              "<Figure size 640x480 with 1 Axes>"
            ],
            "image/png": "[encoded data removed]"
          },
          "metadata": {}
        }
      ]
    },
    {
      "cell_type": "markdown",
      "source": [
        "Boxplot to view statistical summaries of various features the dataset.\n"
      ],
      "metadata": {
        "id": "u9383QgidkmO"
      }
    },
    {
      "cell_type": "code",
      "source": [
        "ax = sns.boxplot(data=df, x='Item_Type', y=\"Item_Outlet_Sales\")\n",
        "ax.set_xticklabels(ax.get_xticklabels(), rotation=45, ha='right');"
      ],
      "metadata": {
        "colab": {
          "base_uri": "https://localhost:8080/",
          "height": 551
        },
        "id": "Oe213ESydvn7",
        "outputId": "a03f995c-369e-477f-f5dd-3c4b34972690"
      },
      "execution_count": null,
      "outputs": [
        {
          "output_type": "display_data",
          "data": {
            "text/plain": [
              "<Figure size 640x480 with 1 Axes>"
            ],
            "image/png": "[encoded data removed]"
          },
          "metadata": {}
        }
      ]
    },
    {
      "cell_type": "code",
      "source": [
        "ax = sns.boxplot(data=df, x='Item_Type', y=\"Item_MRP\")\n",
        "ax.set_xticklabels(ax.get_xticklabels(), rotation=45, ha='right');"
      ],
      "metadata": {
        "colab": {
          "base_uri": "https://localhost:8080/",
          "height": 551
        },
        "id": "hZ2rF7O1fmpa",
        "outputId": "0df6184a-5685-4d6e-c744-0998cf262522"
      },
      "execution_count": null,
      "outputs": [
        {
          "output_type": "display_data",
          "data": {
            "text/plain": [
              "<Figure size 640x480 with 1 Axes>"
            ],
            "image/png": "[encoded data removed]"
          },
          "metadata": {}
        }
      ]
    },
    {
      "cell_type": "code",
      "source": [
        "ax = sns.boxplot(data=df, x='Item_Type', y=\"Item_Visibility\")\n",
        "ax.set_xticklabels(ax.get_xticklabels(), rotation=45, ha='right');"
      ],
      "metadata": {
        "colab": {
          "base_uri": "https://localhost:8080/",
          "height": 551
        },
        "id": "DD7wPQKnf-0D",
        "outputId": "af917960-4a93-4804-d8dd-cc83eadb79be"
      },
      "execution_count": null,
      "outputs": [
        {
          "output_type": "display_data",
          "data": {
            "text/plain": [
              "<Figure size 640x480 with 1 Axes>"
            ],
            "image/png": "[encoded data removed]"
          },
          "metadata": {}
        }
      ]
    },
    {
      "cell_type": "markdown",
      "source": [
        "Heatmap of the correlation between features."
      ],
      "metadata": {
        "id": "ZWAzeIrydkdU"
      }
    },
    {
      "cell_type": "code",
      "source": [
        "corr = df.corr(numeric_only = True)\n",
        "corr.round(2)"
      ],
      "metadata": {
        "id": "XnVOjNU9PhoA",
        "colab": {
          "base_uri": "https://localhost:8080/",
          "height": 213
        },
        "outputId": "63b20851-58b4-4950-e7d8-1f33156bb9ee"
      },
      "execution_count": null,
      "outputs": [
        {
          "output_type": "execute_result",
          "data": {
            "text/plain": [
              "                           Item_Weight  Item_Visibility  Item_MRP  \\\n",
              "Item_Weight                       1.00            -0.01      0.02   \n",
              "Item_Visibility                  -0.01             1.00     -0.00   \n",
              "Item_MRP                          0.02            -0.00      1.00   \n",
              "Outlet_Establishment_Year         0.01            -0.07      0.01   \n",
              "Item_Outlet_Sales                 0.01            -0.13      0.57   \n",
              "\n",
              "                           Outlet_Establishment_Year  Item_Outlet_Sales  \n",
              "Item_Weight                                     0.01               0.01  \n",
              "Item_Visibility                                -0.07              -0.13  \n",
              "Item_MRP                                        0.01               0.57  \n",
              "Outlet_Establishment_Year                       1.00              -0.05  \n",
              "Item_Outlet_Sales                              -0.05               1.00  "
            ],
            "text/html": [
              "\n",
              "  <div id=\"df-3cd66106-1299-41a1-ae27-33313e763c5d\">\n",
              "    <div class=\"colab-df-container\">\n",
              "      <div>\n",
              "<style scoped>\n",
              "    .dataframe tbody tr th:only-of-type {\n",
              "        vertical-align: middle;\n",
              "    }\n",
              "\n",
              "    .dataframe tbody tr th {\n",
              "        vertical-align: top;\n",
              "    }\n",
              "\n",
              "    .dataframe thead th {\n",
              "        text-align: right;\n",
              "    }\n",
              "</style>\n",
              "<table border=\"1\" class=\"dataframe\">\n",
              "  <thead>\n",
              "    <tr style=\"text-align: right;\">\n",
              "      <th></th>\n",
              "      <th>Item_Weight</th>\n",
              "      <th>Item_Visibility</th>\n",
              "      <th>Item_MRP</th>\n",
              "      <th>Outlet_Establishment_Year</th>\n",
              "      <th>Item_Outlet_Sales</th>\n",
              "    </tr>\n",
              "  </thead>\n",
              "  <tbody>\n",
              "    <tr>\n",
              "      <th>Item_Weight</th>\n",
              "      <td>1.00</td>\n",
              "      <td>-0.01</td>\n",
              "      <td>0.02</td>\n",
              "      <td>0.01</td>\n",
              "      <td>0.01</td>\n",
              "    </tr>\n",
              "    <tr>\n",
              "      <th>Item_Visibility</th>\n",
              "      <td>-0.01</td>\n",
              "      <td>1.00</td>\n",
              "      <td>-0.00</td>\n",
              "      <td>-0.07</td>\n",
              "      <td>-0.13</td>\n",
              "    </tr>\n",
              "    <tr>\n",
              "      <th>Item_MRP</th>\n",
              "      <td>0.02</td>\n",
              "      <td>-0.00</td>\n",
              "      <td>1.00</td>\n",
              "      <td>0.01</td>\n",
              "      <td>0.57</td>\n",
              "    </tr>\n",
              "    <tr>\n",
              "      <th>Outlet_Establishment_Year</th>\n",
              "      <td>0.01</td>\n",
              "      <td>-0.07</td>\n",
              "      <td>0.01</td>\n",
              "      <td>1.00</td>\n",
              "      <td>-0.05</td>\n",
              "    </tr>\n",
              "    <tr>\n",
              "      <th>Item_Outlet_Sales</th>\n",
              "      <td>0.01</td>\n",
              "      <td>-0.13</td>\n",
              "      <td>0.57</td>\n",
              "      <td>-0.05</td>\n",
              "      <td>1.00</td>\n",
              "    </tr>\n",
              "  </tbody>\n",
              "</table>\n",
              "</div>\n",
              "      <button class=\"colab-df-convert\" onclick=\"convertToInteractive('df-3cd66106-1299-41a1-ae27-33313e763c5d')\"\n",
              "              title=\"Convert this dataframe to an interactive table.\"\n",
              "              style=\"display:none;\">\n",
              "        \n",
              "  <svg xmlns=\"http://www.w3.org/2000/svg\" height=\"24px\"viewBox=\"0 0 24 24\"\n",
              "       width=\"24px\">\n",
              "    <path d=\"M0 0h24v24H0V0z\" fill=\"none\"/>\n",
              "    <path d=\"M18.56 5.44l.94 2.06.94-2.06 2.06-.94-2.06-.94-.94-2.06-.94 2.06-2.06.94zm-11 1L8.5 8.5l.94-2.06 2.06-.94-2.06-.94L8.5 2.5l-.94 2.06-2.06.94zm10 10l.94 2.06.94-2.06 2.06-.94-2.06-.94-.94-2.06-.94 2.06-2.06.94z\"/><path d=\"M17.41 7.96l-1.37-1.37c-.4-.4-.92-.59-1.43-.59-.52 0-1.04.2-1.43.59L10.3 9.45l-7.72 7.72c-.78.78-.78 2.05 0 2.83L4 21.41c.39.39.9.59 1.41.59.51 0 1.02-.2 1.41-.59l7.78-7.78 2.81-2.81c.8-.78.8-2.07 0-2.86zM5.41 20L4 18.59l7.72-7.72 1.47 1.35L5.41 20z\"/>\n",
              "  </svg>\n",
              "      </button>\n",
              "      \n",
              "  <style>\n",
              "    .colab-df-container {\n",
              "      display:flex;\n",
              "      flex-wrap:wrap;\n",
              "      gap: 12px;\n",
              "    }\n",
              "\n",
              "    .colab-df-convert {\n",
              "      background-color: #E8F0FE;\n",
              "      border: none;\n",
              "      border-radius: 50%;\n",
              "      cursor: pointer;\n",
              "      display: none;\n",
              "      fill: #1967D2;\n",
              "      height: 32px;\n",
              "      padding: 0 0 0 0;\n",
              "      width: 32px;\n",
              "    }\n",
              "\n",
              "    .colab-df-convert:hover {\n",
              "      background-color: #E2EBFA;\n",
              "      box-shadow: 0px 1px 2px rgba(60, 64, 67, 0.3), 0px 1px 3px 1px rgba(60, 64, 67, 0.15);\n",
              "      fill: #174EA6;\n",
              "    }\n",
              "\n",
              "    [theme=dark] .colab-df-convert {\n",
              "      background-color: #3B4455;\n",
              "      fill: #D2E3FC;\n",
              "    }\n",
              "\n",
              "    [theme=dark] .colab-df-convert:hover {\n",
              "      background-color: #434B5C;\n",
              "      box-shadow: 0px 1px 3px 1px rgba(0, 0, 0, 0.15);\n",
              "      filter: drop-shadow(0px 1px 2px rgba(0, 0, 0, 0.3));\n",
              "      fill: #FFFFFF;\n",
              "    }\n",
              "  </style>\n",
              "\n",
              "      <script>\n",
              "        const buttonEl =\n",
              "          document.querySelector('#df-3cd66106-1299-41a1-ae27-33313e763c5d button.colab-df-convert');\n",
              "        buttonEl.style.display =\n",
              "          google.colab.kernel.accessAllowed ? 'block' : 'none';\n",
              "\n",
              "        async function convertToInteractive(key) {\n",
              "          const element = document.querySelector('#df-3cd66106-1299-41a1-ae27-33313e763c5d');\n",
              "          const dataTable =\n",
              "            await google.colab.kernel.invokeFunction('convertToInteractive',\n",
              "                                                     [key], {});\n",
              "          if (!dataTable) return;\n",
              "\n",
              "          const docLinkHtml = 'Like what you see? Visit the ' +\n",
              "            '<a target=\"_blank\" href=https://colab.research.google.com/notebooks/data_table.ipynb>data table notebook</a>'\n",
              "            + ' to learn more about interactive tables.';\n",
              "          element.innerHTML = '';\n",
              "          dataTable['output_type'] = 'display_data';\n",
              "          await google.colab.output.renderOutput(dataTable, element);\n",
              "          const docLink = document.createElement('div');\n",
              "          docLink.innerHTML = docLinkHtml;\n",
              "          element.appendChild(docLink);\n",
              "        }\n",
              "      </script>\n",
              "    </div>\n",
              "  </div>\n",
              "  "
            ]
          },
          "metadata": {},
          "execution_count": 20
        }
      ]
    },
    {
      "cell_type": "code",
      "source": [
        "sns.heatmap(corr, cmap = 'Blues', annot = True);"
      ],
      "metadata": {
        "colab": {
          "base_uri": "https://localhost:8080/",
          "height": 606
        },
        "id": "C7nOV1ZRhCRE",
        "outputId": "8b5df355-9e08-4a0b-b765-297dff6abb44"
      },
      "execution_count": null,
      "outputs": [
        {
          "output_type": "display_data",
          "data": {
            "text/plain": [
              "<Figure size 640x480 with 2 Axes>"
            ],
            "image/png": "[encoded data removed]"
          },
          "metadata": {}
        }
      ]
    },
    {
      "cell_type": "code",
      "source": [
        "ax = df.plot(kind='scatter', x='Item_MRP', y='Item_Outlet_Sales');"
      ],
      "metadata": {
        "colab": {
          "base_uri": "https://localhost:8080/",
          "height": 449
        },
        "id": "mZtzvgrqhjYI",
        "outputId": "4d09b37f-931a-4f2a-9bdb-6453d8440588"
      },
      "execution_count": null,
      "outputs": [
        {
          "output_type": "display_data",
          "data": {
            "text/plain": [
              "<Figure size 640x480 with 1 Axes>"
            ],
            "image/png": "[encoded data removed]"
          },
          "metadata": {}
        }
      ]
    },
    {
      "cell_type": "markdown",
      "source": [
        "<h2>Explantory Data Analysis</h2>"
      ],
      "metadata": {
        "id": "XkRV3wXiP4Pg"
      }
    },
    {
      "cell_type": "code",
      "source": [
        "Item_sales_By_MRP = df.groupby('Item_Outlet_Sales').mean()['Item_MRP']\n",
        "Sales = Item_sales_By_MRP.index\n",
        "\n",
        "fig, ax = plt.subplots()\n",
        "ax.plot(Sales, Item_sales_By_MRP);\n",
        "ax.set(xlabel='Item_Outlet_Sales', ylabel='Item_MRP');"
      ],
      "metadata": {
        "id": "GtZKSC0PP43q",
        "colab": {
          "base_uri": "https://localhost:8080/",
          "height": 450
        },
        "outputId": "4450ecf6-bf2e-402a-cb8e-38949e7fb47f"
      },
      "execution_count": null,
      "outputs": [
        {
          "output_type": "display_data",
          "data": {
            "text/plain": [
              "<Figure size 640x480 with 1 Axes>"
            ],
            "image/png": "[encoded data removed]"
          },
          "metadata": {}
        }
      ]
    },
    {
      "cell_type": "markdown",
      "source": [
        "# Pipelines"
      ],
      "metadata": {
        "id": "F6t0w0cq4BlW"
      }
    },
    {
      "cell_type": "markdown",
      "source": [
        "# Data"
      ],
      "metadata": {
        "id": "ccvsa8hMMfOQ"
      }
    },
    {
      "cell_type": "code",
      "execution_count": null,
      "metadata": {
        "id": "yBZMKIMzYTTZ"
      },
      "outputs": [],
      "source": [
        "import pandas as pd\n",
        "import numpy as np\n",
        "import matplotlib.pyplot as plt\n",
        "import seaborn as sns\n",
        "from sklearn.pipeline import make_pipeline\n",
        "from sklearn.impute import SimpleImputer\n",
        "from sklearn.preprocessing import StandardScaler, OneHotEncoder, OrdinalEncoder\n",
        "from sklearn.model_selection import train_test_split\n",
        "from sklearn.compose import make_column_selector, ColumnTransformer\n",
        "\n",
        "from sklearn import set_config\n",
        "set_config(transform_output='pandas')"
      ]
    },
    {
      "cell_type": "code",
      "source": [
        "df = pd.read_csv('/content/drive/MyDrive/CodingDojo/Project 1/sales_predictions_2023.csv')\n",
        "df.info()\n",
        "df.head()"
      ],
      "metadata": {
        "colab": {
          "base_uri": "https://localhost:8080/",
          "height": 567
        },
        "id": "ayTEULI2YdmG",
        "outputId": "10e4ebf6-b617-438a-c7af-d594e757e3b1"
      },
      "execution_count": null,
      "outputs": [
        {
          "output_type": "stream",
          "name": "stdout",
          "text": [
            "<class 'pandas.core.frame.DataFrame'>\n",
            "RangeIndex: 8523 entries, 0 to 8522\n",
            "Data columns (total 12 columns):\n",
            " #   Column                     Non-Null Count  Dtype  \n",
            "---  ------                     --------------  -----  \n",
            " 0   Item_Identifier            8523 non-null   object \n",
            " 1   Item_Weight                7060 non-null   float64\n",
            " 2   Item_Fat_Content           8523 non-null   object \n",
            " 3   Item_Visibility            8523 non-null   float64\n",
            " 4   Item_Type                  8523 non-null   object \n",
            " 5   Item_MRP                   8523 non-null   float64\n",
            " 6   Outlet_Identifier          8523 non-null   object \n",
            " 7   Outlet_Establishment_Year  8523 non-null   int64  \n",
            " 8   Outlet_Size                6113 non-null   object \n",
            " 9   Outlet_Location_Type       8523 non-null   object \n",
            " 10  Outlet_Type                8523 non-null   object \n",
            " 11  Item_Outlet_Sales          8523 non-null   float64\n",
            "dtypes: float64(4), int64(1), object(7)\n",
            "memory usage: 799.2+ KB\n"
          ]
        },
        {
          "output_type": "execute_result",
          "data": {
            "text/plain": [
              "  Item_Identifier  Item_Weight Item_Fat_Content  Item_Visibility  \\\n",
              "0           FDA15         9.30          Low Fat         0.016047   \n",
              "1           DRC01         5.92          Regular         0.019278   \n",
              "2           FDN15        17.50          Low Fat         0.016760   \n",
              "3           FDX07        19.20          Regular         0.000000   \n",
              "4           NCD19         8.93          Low Fat         0.000000   \n",
              "\n",
              "               Item_Type  Item_MRP Outlet_Identifier  \\\n",
              "0                  Dairy  249.8092            OUT049   \n",
              "1            Soft Drinks   48.2692            OUT018   \n",
              "2                   Meat  141.6180            OUT049   \n",
              "3  Fruits and Vegetables  182.0950            OUT010   \n",
              "4              Household   53.8614            OUT013   \n",
              "\n",
              "   Outlet_Establishment_Year Outlet_Size Outlet_Location_Type  \\\n",
              "0                       1999      Medium               Tier 1   \n",
              "1                       2009      Medium               Tier 3   \n",
              "2                       1999      Medium               Tier 1   \n",
              "3                       1998         NaN               Tier 3   \n",
              "4                       1987        High               Tier 3   \n",
              "\n",
              "         Outlet_Type  Item_Outlet_Sales  \n",
              "0  Supermarket Type1          3735.1380  \n",
              "1  Supermarket Type2           443.4228  \n",
              "2  Supermarket Type1          2097.2700  \n",
              "3      Grocery Store           732.3800  \n",
              "4  Supermarket Type1           994.7052  "
            ],
            "text/html": [
              "\n",
              "  <div id=\"df-37e9957c-45d8-447d-a95c-8e9f80711afd\">\n",
              "    <div class=\"colab-df-container\">\n",
              "      <div>\n",
              "<style scoped>\n",
              "    .dataframe tbody tr th:only-of-type {\n",
              "        vertical-align: middle;\n",
              "    }\n",
              "\n",
              "    .dataframe tbody tr th {\n",
              "        vertical-align: top;\n",
              "    }\n",
              "\n",
              "    .dataframe thead th {\n",
              "        text-align: right;\n",
              "    }\n",
              "</style>\n",
              "<table border=\"1\" class=\"dataframe\">\n",
              "  <thead>\n",
              "    <tr style=\"text-align: right;\">\n",
              "      <th></th>\n",
              "      <th>Item_Identifier</th>\n",
              "      <th>Item_Weight</th>\n",
              "      <th>Item_Fat_Content</th>\n",
              "      <th>Item_Visibility</th>\n",
              "      <th>Item_Type</th>\n",
              "      <th>Item_MRP</th>\n",
              "      <th>Outlet_Identifier</th>\n",
              "      <th>Outlet_Establishment_Year</th>\n",
              "      <th>Outlet_Size</th>\n",
              "      <th>Outlet_Location_Type</th>\n",
              "      <th>Outlet_Type</th>\n",
              "      <th>Item_Outlet_Sales</th>\n",
              "    </tr>\n",
              "  </thead>\n",
              "  <tbody>\n",
              "    <tr>\n",
              "      <th>0</th>\n",
              "      <td>FDA15</td>\n",
              "      <td>9.30</td>\n",
              "      <td>Low Fat</td>\n",
              "      <td>0.016047</td>\n",
              "      <td>Dairy</td>\n",
              "      <td>249.8092</td>\n",
              "      <td>OUT049</td>\n",
              "      <td>1999</td>\n",
              "      <td>Medium</td>\n",
              "      <td>Tier 1</td>\n",
              "      <td>Supermarket Type1</td>\n",
              "      <td>3735.1380</td>\n",
              "    </tr>\n",
              "    <tr>\n",
              "      <th>1</th>\n",
              "      <td>DRC01</td>\n",
              "      <td>5.92</td>\n",
              "      <td>Regular</td>\n",
              "      <td>0.019278</td>\n",
              "      <td>Soft Drinks</td>\n",
              "      <td>48.2692</td>\n",
              "      <td>OUT018</td>\n",
              "      <td>2009</td>\n",
              "      <td>Medium</td>\n",
              "      <td>Tier 3</td>\n",
              "      <td>Supermarket Type2</td>\n",
              "      <td>443.4228</td>\n",
              "    </tr>\n",
              "    <tr>\n",
              "      <th>2</th>\n",
              "      <td>FDN15</td>\n",
              "      <td>17.50</td>\n",
              "      <td>Low Fat</td>\n",
              "      <td>0.016760</td>\n",
              "      <td>Meat</td>\n",
              "      <td>141.6180</td>\n",
              "      <td>OUT049</td>\n",
              "      <td>1999</td>\n",
              "      <td>Medium</td>\n",
              "      <td>Tier 1</td>\n",
              "      <td>Supermarket Type1</td>\n",
              "      <td>2097.2700</td>\n",
              "    </tr>\n",
              "    <tr>\n",
              "      <th>3</th>\n",
              "      <td>FDX07</td>\n",
              "      <td>19.20</td>\n",
              "      <td>Regular</td>\n",
              "      <td>0.000000</td>\n",
              "      <td>Fruits and Vegetables</td>\n",
              "      <td>182.0950</td>\n",
              "      <td>OUT010</td>\n",
              "      <td>1998</td>\n",
              "      <td>NaN</td>\n",
              "      <td>Tier 3</td>\n",
              "      <td>Grocery Store</td>\n",
              "      <td>732.3800</td>\n",
              "    </tr>\n",
              "    <tr>\n",
              "      <th>4</th>\n",
              "      <td>NCD19</td>\n",
              "      <td>8.93</td>\n",
              "      <td>Low Fat</td>\n",
              "      <td>0.000000</td>\n",
              "      <td>Household</td>\n",
              "      <td>53.8614</td>\n",
              "      <td>OUT013</td>\n",
              "      <td>1987</td>\n",
              "      <td>High</td>\n",
              "      <td>Tier 3</td>\n",
              "      <td>Supermarket Type1</td>\n",
              "      <td>994.7052</td>\n",
              "    </tr>\n",
              "  </tbody>\n",
              "</table>\n",
              "</div>\n",
              "      <button class=\"colab-df-convert\" onclick=\"convertToInteractive('df-37e9957c-45d8-447d-a95c-8e9f80711afd')\"\n",
              "              title=\"Convert this dataframe to an interactive table.\"\n",
              "              style=\"display:none;\">\n",
              "        \n",
              "  <svg xmlns=\"http://www.w3.org/2000/svg\" height=\"24px\"viewBox=\"0 0 24 24\"\n",
              "       width=\"24px\">\n",
              "    <path d=\"M0 0h24v24H0V0z\" fill=\"none\"/>\n",
              "    <path d=\"M18.56 5.44l.94 2.06.94-2.06 2.06-.94-2.06-.94-.94-2.06-.94 2.06-2.06.94zm-11 1L8.5 8.5l.94-2.06 2.06-.94-2.06-.94L8.5 2.5l-.94 2.06-2.06.94zm10 10l.94 2.06.94-2.06 2.06-.94-2.06-.94-.94-2.06-.94 2.06-2.06.94z\"/><path d=\"M17.41 7.96l-1.37-1.37c-.4-.4-.92-.59-1.43-.59-.52 0-1.04.2-1.43.59L10.3 9.45l-7.72 7.72c-.78.78-.78 2.05 0 2.83L4 21.41c.39.39.9.59 1.41.59.51 0 1.02-.2 1.41-.59l7.78-7.78 2.81-2.81c.8-.78.8-2.07 0-2.86zM5.41 20L4 18.59l7.72-7.72 1.47 1.35L5.41 20z\"/>\n",
              "  </svg>\n",
              "      </button>\n",
              "      \n",
              "  <style>\n",
              "    .colab-df-container {\n",
              "      display:flex;\n",
              "      flex-wrap:wrap;\n",
              "      gap: 12px;\n",
              "    }\n",
              "\n",
              "    .colab-df-convert {\n",
              "      background-color: #E8F0FE;\n",
              "      border: none;\n",
              "      border-radius: 50%;\n",
              "      cursor: pointer;\n",
              "      display: none;\n",
              "      fill: #1967D2;\n",
              "      height: 32px;\n",
              "      padding: 0 0 0 0;\n",
              "      width: 32px;\n",
              "    }\n",
              "\n",
              "    .colab-df-convert:hover {\n",
              "      background-color: #E2EBFA;\n",
              "      box-shadow: 0px 1px 2px rgba(60, 64, 67, 0.3), 0px 1px 3px 1px rgba(60, 64, 67, 0.15);\n",
              "      fill: #174EA6;\n",
              "    }\n",
              "\n",
              "    [theme=dark] .colab-df-convert {\n",
              "      background-color: #3B4455;\n",
              "      fill: #D2E3FC;\n",
              "    }\n",
              "\n",
              "    [theme=dark] .colab-df-convert:hover {\n",
              "      background-color: #434B5C;\n",
              "      box-shadow: 0px 1px 3px 1px rgba(0, 0, 0, 0.15);\n",
              "      filter: drop-shadow(0px 1px 2px rgba(0, 0, 0, 0.3));\n",
              "      fill: #FFFFFF;\n",
              "    }\n",
              "  </style>\n",
              "\n",
              "      <script>\n",
              "        const buttonEl =\n",
              "          document.querySelector('#df-37e9957c-45d8-447d-a95c-8e9f80711afd button.colab-df-convert');\n",
              "        buttonEl.style.display =\n",
              "          google.colab.kernel.accessAllowed ? 'block' : 'none';\n",
              "\n",
              "        async function convertToInteractive(key) {\n",
              "          const element = document.querySelector('#df-37e9957c-45d8-447d-a95c-8e9f80711afd');\n",
              "          const dataTable =\n",
              "            await google.colab.kernel.invokeFunction('convertToInteractive',\n",
              "                                                     [key], {});\n",
              "          if (!dataTable) return;\n",
              "\n",
              "          const docLinkHtml = 'Like what you see? Visit the ' +\n",
              "            '<a target=\"_blank\" href=https://colab.research.google.com/notebooks/data_table.ipynb>data table notebook</a>'\n",
              "            + ' to learn more about interactive tables.';\n",
              "          element.innerHTML = '';\n",
              "          dataTable['output_type'] = 'display_data';\n",
              "          await google.colab.output.renderOutput(dataTable, element);\n",
              "          const docLink = document.createElement('div');\n",
              "          docLink.innerHTML = docLinkHtml;\n",
              "          element.appendChild(docLink);\n",
              "        }\n",
              "      </script>\n",
              "    </div>\n",
              "  </div>\n",
              "  "
            ]
          },
          "metadata": {},
          "execution_count": 11
        }
      ]
    },
    {
      "cell_type": "code",
      "source": [
        "df.drop(columns = 'Item_Identifier', axis = 1, inplace = True)\n",
        "df.info()"
      ],
      "metadata": {
        "colab": {
          "base_uri": "https://localhost:8080/"
        },
        "id": "UkpriPF5xOoD",
        "outputId": "930ea28e-c155-40b1-ebfb-8df5a85fff53"
      },
      "execution_count": null,
      "outputs": [
        {
          "output_type": "stream",
          "name": "stdout",
          "text": [
            "<class 'pandas.core.frame.DataFrame'>\n",
            "RangeIndex: 8523 entries, 0 to 8522\n",
            "Data columns (total 11 columns):\n",
            " #   Column                     Non-Null Count  Dtype  \n",
            "---  ------                     --------------  -----  \n",
            " 0   Item_Weight                7060 non-null   float64\n",
            " 1   Item_Fat_Content           8523 non-null   object \n",
            " 2   Item_Visibility            8523 non-null   float64\n",
            " 3   Item_Type                  8523 non-null   object \n",
            " 4   Item_MRP                   8523 non-null   float64\n",
            " 5   Outlet_Identifier          8523 non-null   object \n",
            " 6   Outlet_Establishment_Year  8523 non-null   int64  \n",
            " 7   Outlet_Size                6113 non-null   object \n",
            " 8   Outlet_Location_Type       8523 non-null   object \n",
            " 9   Outlet_Type                8523 non-null   object \n",
            " 10  Item_Outlet_Sales          8523 non-null   float64\n",
            "dtypes: float64(4), int64(1), object(6)\n",
            "memory usage: 732.6+ KB\n"
          ]
        }
      ]
    },
    {
      "cell_type": "code",
      "source": [
        "df.duplicated().sum()"
      ],
      "metadata": {
        "colab": {
          "base_uri": "https://localhost:8080/"
        },
        "id": "D5djukjMvnvO",
        "outputId": "d2232bb6-d2e7-4f40-f222-73c61845090a"
      },
      "execution_count": null,
      "outputs": [
        {
          "output_type": "execute_result",
          "data": {
            "text/plain": [
              "0"
            ]
          },
          "metadata": {},
          "execution_count": 18
        }
      ]
    },
    {
      "cell_type": "code",
      "source": [
        "data_types = df.dtypes\n",
        "str_cols = data_types[data_types=='object'].index\n",
        "str_cols"
      ],
      "metadata": {
        "colab": {
          "base_uri": "https://localhost:8080/"
        },
        "id": "Nf1EVignx0Rw",
        "outputId": "0498af2f-bd35-4795-cae5-5911466c5ab2"
      },
      "execution_count": null,
      "outputs": [
        {
          "output_type": "execute_result",
          "data": {
            "text/plain": [
              "Index(['Item_Fat_Content', 'Item_Type', 'Outlet_Identifier', 'Outlet_Size',\n",
              "       'Outlet_Location_Type', 'Outlet_Type'],\n",
              "      dtype='object')"
            ]
          },
          "metadata": {},
          "execution_count": 23
        }
      ]
    },
    {
      "cell_type": "code",
      "source": [
        "for col in str_cols:\n",
        "    print(f'- {col}:')\n",
        "    print(df[col].value_counts(dropna=False))\n",
        "    print(\"\\n\\n\")"
      ],
      "metadata": {
        "colab": {
          "base_uri": "https://localhost:8080/"
        },
        "id": "8SYf4y2AyhoL",
        "outputId": "742d5ba3-9b81-4dbe-df2d-aa16c62a0cfa"
      },
      "execution_count": null,
      "outputs": [
        {
          "output_type": "stream",
          "name": "stdout",
          "text": [
            "- Item_Fat_Content:\n",
            "Low Fat    5089\n",
            "Regular    2889\n",
            "LF          316\n",
            "reg         117\n",
            "low fat     112\n",
            "Name: Item_Fat_Content, dtype: int64\n",
            "\n",
            "\n",
            "\n",
            "- Item_Type:\n",
            "Fruits and Vegetables    1232\n",
            "Snack Foods              1200\n",
            "Household                 910\n",
            "Frozen Foods              856\n",
            "Dairy                     682\n",
            "Canned                    649\n",
            "Baking Goods              648\n",
            "Health and Hygiene        520\n",
            "Soft Drinks               445\n",
            "Meat                      425\n",
            "Breads                    251\n",
            "Hard Drinks               214\n",
            "Others                    169\n",
            "Starchy Foods             148\n",
            "Breakfast                 110\n",
            "Seafood                    64\n",
            "Name: Item_Type, dtype: int64\n",
            "\n",
            "\n",
            "\n",
            "- Outlet_Identifier:\n",
            "OUT027    935\n",
            "OUT013    932\n",
            "OUT049    930\n",
            "OUT046    930\n",
            "OUT035    930\n",
            "OUT045    929\n",
            "OUT018    928\n",
            "OUT017    926\n",
            "OUT010    555\n",
            "OUT019    528\n",
            "Name: Outlet_Identifier, dtype: int64\n",
            "\n",
            "\n",
            "\n",
            "- Outlet_Size:\n",
            "Medium    2793\n",
            "NaN       2410\n",
            "Small     2388\n",
            "High       932\n",
            "Name: Outlet_Size, dtype: int64\n",
            "\n",
            "\n",
            "\n",
            "- Outlet_Location_Type:\n",
            "Tier 3    3350\n",
            "Tier 2    2785\n",
            "Tier 1    2388\n",
            "Name: Outlet_Location_Type, dtype: int64\n",
            "\n",
            "\n",
            "\n",
            "- Outlet_Type:\n",
            "Supermarket Type1    5577\n",
            "Grocery Store        1083\n",
            "Supermarket Type3     935\n",
            "Supermarket Type2     928\n",
            "Name: Outlet_Type, dtype: int64\n",
            "\n",
            "\n",
            "\n"
          ]
        }
      ]
    },
    {
      "cell_type": "code",
      "source": [
        "Fat_Content = {'LF':'Low Fat',\n",
        "                   'low fat':'Low Fat',\n",
        "                   'reg':'Regular'}\n",
        "\n",
        "df['Item_Fat_Content'] = df['Item_Fat_Content'].replace(Fat_Content)"
      ],
      "metadata": {
        "id": "ZUdTgOhhy05I"
      },
      "execution_count": null,
      "outputs": []
    },
    {
      "cell_type": "code",
      "source": [
        "df['Item_Fat_Content'].value_counts()"
      ],
      "metadata": {
        "colab": {
          "base_uri": "https://localhost:8080/"
        },
        "id": "FFsHab-ozWQ9",
        "outputId": "1011f0f5-11cf-4b7b-a911-d88d438b0c32"
      },
      "execution_count": null,
      "outputs": [
        {
          "output_type": "execute_result",
          "data": {
            "text/plain": [
              "Low Fat    5517\n",
              "Regular    3006\n",
              "Name: Item_Fat_Content, dtype: int64"
            ]
          },
          "metadata": {},
          "execution_count": 26
        }
      ]
    },
    {
      "cell_type": "code",
      "source": [
        "df.isna().sum()"
      ],
      "metadata": {
        "colab": {
          "base_uri": "https://localhost:8080/"
        },
        "id": "Jz1jVe1Jv0W1",
        "outputId": "39c07348-16d5-4862-f8c0-292fb84d25e8"
      },
      "execution_count": null,
      "outputs": [
        {
          "output_type": "execute_result",
          "data": {
            "text/plain": [
              "Item_Weight                  1463\n",
              "Item_Fat_Content                0\n",
              "Item_Visibility                 0\n",
              "Item_Type                       0\n",
              "Item_MRP                        0\n",
              "Outlet_Identifier               0\n",
              "Outlet_Establishment_Year       0\n",
              "Outlet_Size                  2410\n",
              "Outlet_Location_Type            0\n",
              "Outlet_Type                     0\n",
              "Item_Outlet_Sales               0\n",
              "dtype: int64"
            ]
          },
          "metadata": {},
          "execution_count": 19
        }
      ]
    },
    {
      "cell_type": "code",
      "source": [
        "df.isna().sum() / len(df) * 100"
      ],
      "metadata": {
        "colab": {
          "base_uri": "https://localhost:8080/"
        },
        "id": "hMLFOKzHv2Zi",
        "outputId": "169436d1-dcad-4482-9e4b-cb284f864a7b"
      },
      "execution_count": null,
      "outputs": [
        {
          "output_type": "execute_result",
          "data": {
            "text/plain": [
              "Item_Weight                  17.165317\n",
              "Item_Fat_Content              0.000000\n",
              "Item_Visibility               0.000000\n",
              "Item_Type                     0.000000\n",
              "Item_MRP                      0.000000\n",
              "Outlet_Identifier             0.000000\n",
              "Outlet_Establishment_Year     0.000000\n",
              "Outlet_Size                  28.276428\n",
              "Outlet_Location_Type          0.000000\n",
              "Outlet_Type                   0.000000\n",
              "Item_Outlet_Sales             0.000000\n",
              "dtype: float64"
            ]
          },
          "metadata": {},
          "execution_count": 20
        }
      ]
    },
    {
      "cell_type": "markdown",
      "source": [
        "# TTS"
      ],
      "metadata": {
        "id": "rt9Dc_Yvwp_e"
      }
    },
    {
      "cell_type": "code",
      "source": [
        "target = 'Item_Outlet_Sales'\n",
        "X = df.drop(columns=[target , 'Item_Outlet_Sales'])\n",
        "y = df[target]"
      ],
      "metadata": {
        "id": "XBYniPV9Yqie"
      },
      "execution_count": null,
      "outputs": []
    },
    {
      "cell_type": "markdown",
      "source": [
        "- Train/test split the data. Please use the random number 42 for consistency."
      ],
      "metadata": {
        "id": "OYBYzZLzR1R9"
      }
    },
    {
      "cell_type": "code",
      "source": [
        "X_train, X_test, y_train, y_test = train_test_split(X, y, random_state = 42)"
      ],
      "metadata": {
        "id": "rJ3p3dW5YsV-"
      },
      "execution_count": null,
      "outputs": []
    },
    {
      "cell_type": "markdown",
      "source": [
        "#ColumnTransformer"
      ],
      "metadata": {
        "id": "d0-ws4Mpcv0C"
      }
    },
    {
      "cell_type": "markdown",
      "source": [
        "Pipelines"
      ],
      "metadata": {
        "id": "1gM4aSUSdLAy"
      }
    },
    {
      "cell_type": "code",
      "source": [
        "cat_cols = X_train.select_dtypes('object').columns\n",
        "impute_missing = SimpleImputer(strategy='constant',fill_value='MISSING')\n",
        "ohe_encoder = OneHotEncoder(sparse_output=False, handle_unknown='ignore')\n",
        "ohe_pipe = make_pipeline(impute_missing, ohe_encoder)\n",
        "ohe_tuple = ('categorical', ohe_pipe, cat_cols)"
      ],
      "metadata": {
        "id": "kx_SEeixiPyz"
      },
      "execution_count": null,
      "outputs": []
    },
    {
      "cell_type": "code",
      "source": [
        "num_cols = X_train.select_dtypes('number').columns\n",
        "mean_imputer = SimpleImputer(strategy=\"mean\")\n",
        "scaler = StandardScaler()\n",
        "numeric_pipe = make_pipeline(mean_imputer, scaler)\n",
        "num_tuple = ('numeric', numeric_pipe, num_cols)"
      ],
      "metadata": {
        "id": "N8nKVngdiSUc"
      },
      "execution_count": null,
      "outputs": []
    },
    {
      "cell_type": "markdown",
      "source": [
        "ColumnTransformer"
      ],
      "metadata": {
        "id": "oX6KUJLyLftl"
      }
    },
    {
      "cell_type": "code",
      "source": [
        "col_transformer = ColumnTransformer([num_tuple, ohe_tuple],\n",
        "                                    verbose_feature_names_out=False)\n",
        "col_transformer"
      ],
      "metadata": {
        "colab": {
          "base_uri": "https://localhost:8080/",
          "height": 155
        },
        "id": "mMXPvWd9Lhqp",
        "outputId": "464c811f-40a4-448d-a770-c76fb497938e"
      },
      "execution_count": null,
      "outputs": [
        {
          "output_type": "execute_result",
          "data": {
            "text/plain": [
              "ColumnTransformer(transformers=[('numeric',\n",
              "                                 Pipeline(steps=[('simpleimputer',\n",
              "                                                  SimpleImputer()),\n",
              "                                                 ('standardscaler',\n",
              "                                                  StandardScaler())]),\n",
              "                                 Index(['Item_Weight', 'Item_Visibility', 'Item_MRP',\n",
              "       'Outlet_Establishment_Year'],\n",
              "      dtype='object')),\n",
              "                                ('categorical',\n",
              "                                 Pipeline(steps=[('simpleimputer',\n",
              "                                                  SimpleImputer(fill_value='MISSING',\n",
              "                                                                strategy='constant')),\n",
              "                                                 ('onehotencoder',\n",
              "                                                  OneHotEncoder(handle_unknown='ignore',\n",
              "                                                                sparse_output=False))]),\n",
              "                                 Index(['Item_Fat_Content', 'Item_Type', 'Outlet_Identifier', 'Outlet_Size',\n",
              "       'Outlet_Location_Type', 'Outlet_Type'],\n",
              "      dtype='object'))],\n",
              "                  verbose_feature_names_out=False)"
            ],
            "text/html": [
              "<style>#sk-container-id-2 {color: black;background-color: white;}#sk-container-id-2 pre{padding: 0;}#sk-container-id-2 div.sk-toggleable {background-color: white;}#sk-container-id-2 label.sk-toggleable__label {cursor: pointer;display: block;width: 100%;margin-bottom: 0;padding: 0.3em;box-sizing: border-box;text-align: center;}#sk-container-id-2 label.sk-toggleable__label-arrow:before {content: \"▸\";float: left;margin-right: 0.25em;color: #696969;}#sk-container-id-2 label.sk-toggleable__label-arrow:hover:before {color: black;}#sk-container-id-2 div.sk-estimator:hover label.sk-toggleable__label-arrow:before {color: black;}#sk-container-id-2 div.sk-toggleable__content {max-height: 0;max-width: 0;overflow: hidden;text-align: left;background-color: #f0f8ff;}#sk-container-id-2 div.sk-toggleable__content pre {margin: 0.2em;color: black;border-radius: 0.25em;background-color: #f0f8ff;}#sk-container-id-2 input.sk-toggleable__control:checked~div.sk-toggleable__content {max-height: 200px;max-width: 100%;overflow: auto;}#sk-container-id-2 input.sk-toggleable__control:checked~label.sk-toggleable__label-arrow:before {content: \"▾\";}#sk-container-id-2 div.sk-estimator input.sk-toggleable__control:checked~label.sk-toggleable__label {background-color: #d4ebff;}#sk-container-id-2 div.sk-label input.sk-toggleable__control:checked~label.sk-toggleable__label {background-color: #d4ebff;}#sk-container-id-2 input.sk-hidden--visually {border: 0;clip: rect(1px 1px 1px 1px);clip: rect(1px, 1px, 1px, 1px);height: 1px;margin: -1px;overflow: hidden;padding: 0;position: absolute;width: 1px;}#sk-container-id-2 div.sk-estimator {font-family: monospace;background-color: #f0f8ff;border: 1px dotted black;border-radius: 0.25em;box-sizing: border-box;margin-bottom: 0.5em;}#sk-container-id-2 div.sk-estimator:hover {background-color: #d4ebff;}#sk-container-id-2 div.sk-parallel-item::after {content: \"\";width: 100%;border-bottom: 1px solid gray;flex-grow: 1;}#sk-container-id-2 div.sk-label:hover label.sk-toggleable__label {background-color: #d4ebff;}#sk-container-id-2 div.sk-serial::before {content: \"\";position: absolute;border-left: 1px solid gray;box-sizing: border-box;top: 0;bottom: 0;left: 50%;z-index: 0;}#sk-container-id-2 div.sk-serial {display: flex;flex-direction: column;align-items: center;background-color: white;padding-right: 0.2em;padding-left: 0.2em;position: relative;}#sk-container-id-2 div.sk-item {position: relative;z-index: 1;}#sk-container-id-2 div.sk-parallel {display: flex;align-items: stretch;justify-content: center;background-color: white;position: relative;}#sk-container-id-2 div.sk-item::before, #sk-container-id-2 div.sk-parallel-item::before {content: \"\";position: absolute;border-left: 1px solid gray;box-sizing: border-box;top: 0;bottom: 0;left: 50%;z-index: -1;}#sk-container-id-2 div.sk-parallel-item {display: flex;flex-direction: column;z-index: 1;position: relative;background-color: white;}#sk-container-id-2 div.sk-parallel-item:first-child::after {align-self: flex-end;width: 50%;}#sk-container-id-2 div.sk-parallel-item:last-child::after {align-self: flex-start;width: 50%;}#sk-container-id-2 div.sk-parallel-item:only-child::after {width: 0;}#sk-container-id-2 div.sk-dashed-wrapped {border: 1px dashed gray;margin: 0 0.4em 0.5em 0.4em;box-sizing: border-box;padding-bottom: 0.4em;background-color: white;}#sk-container-id-2 div.sk-label label {font-family: monospace;font-weight: bold;display: inline-block;line-height: 1.2em;}#sk-container-id-2 div.sk-label-container {text-align: center;}#sk-container-id-2 div.sk-container {/* jupyter's `normalize.less` sets `[hidden] { display: none; }` but bootstrap.min.css set `[hidden] { display: none !important; }` so we also need the `!important` here to be able to override the default hidden behavior on the sphinx rendered scikit-learn.org. See: https://github.com/scikit-learn/scikit-learn/issues/21755 */display: inline-block !important;position: relative;}#sk-container-id-2 div.sk-text-repr-fallback {display: none;}</style><div id=\"sk-container-id-2\" class=\"sk-top-container\"><div class=\"sk-text-repr-fallback\"><pre>ColumnTransformer(transformers=[(&#x27;numeric&#x27;,\n",
              "                                 Pipeline(steps=[(&#x27;simpleimputer&#x27;,\n",
              "                                                  SimpleImputer()),\n",
              "                                                 (&#x27;standardscaler&#x27;,\n",
              "                                                  StandardScaler())]),\n",
              "                                 Index([&#x27;Item_Weight&#x27;, &#x27;Item_Visibility&#x27;, &#x27;Item_MRP&#x27;,\n",
              "       &#x27;Outlet_Establishment_Year&#x27;],\n",
              "      dtype=&#x27;object&#x27;)),\n",
              "                                (&#x27;categorical&#x27;,\n",
              "                                 Pipeline(steps=[(&#x27;simpleimputer&#x27;,\n",
              "                                                  SimpleImputer(fill_value=&#x27;MISSING&#x27;,\n",
              "                                                                strategy=&#x27;constant&#x27;)),\n",
              "                                                 (&#x27;onehotencoder&#x27;,\n",
              "                                                  OneHotEncoder(handle_unknown=&#x27;ignore&#x27;,\n",
              "                                                                sparse_output=False))]),\n",
              "                                 Index([&#x27;Item_Fat_Content&#x27;, &#x27;Item_Type&#x27;, &#x27;Outlet_Identifier&#x27;, &#x27;Outlet_Size&#x27;,\n",
              "       &#x27;Outlet_Location_Type&#x27;, &#x27;Outlet_Type&#x27;],\n",
              "      dtype=&#x27;object&#x27;))],\n",
              "                  verbose_feature_names_out=False)</pre><b>In a Jupyter environment, please rerun this cell to show the HTML representation or trust the notebook. <br />On GitHub, the HTML representation is unable to render, please try loading this page with nbviewer.org.</b></div><div class=\"sk-container\" hidden><div class=\"sk-item sk-dashed-wrapped\"><div class=\"sk-label-container\"><div class=\"sk-label sk-toggleable\"><input class=\"sk-toggleable__control sk-hidden--visually\" id=\"sk-estimator-id-8\" type=\"checkbox\" ><label for=\"sk-estimator-id-8\" class=\"sk-toggleable__label sk-toggleable__label-arrow\">ColumnTransformer</label><div class=\"sk-toggleable__content\"><pre>ColumnTransformer(transformers=[(&#x27;numeric&#x27;,\n",
              "                                 Pipeline(steps=[(&#x27;simpleimputer&#x27;,\n",
              "                                                  SimpleImputer()),\n",
              "                                                 (&#x27;standardscaler&#x27;,\n",
              "                                                  StandardScaler())]),\n",
              "                                 Index([&#x27;Item_Weight&#x27;, &#x27;Item_Visibility&#x27;, &#x27;Item_MRP&#x27;,\n",
              "       &#x27;Outlet_Establishment_Year&#x27;],\n",
              "      dtype=&#x27;object&#x27;)),\n",
              "                                (&#x27;categorical&#x27;,\n",
              "                                 Pipeline(steps=[(&#x27;simpleimputer&#x27;,\n",
              "                                                  SimpleImputer(fill_value=&#x27;MISSING&#x27;,\n",
              "                                                                strategy=&#x27;constant&#x27;)),\n",
              "                                                 (&#x27;onehotencoder&#x27;,\n",
              "                                                  OneHotEncoder(handle_unknown=&#x27;ignore&#x27;,\n",
              "                                                                sparse_output=False))]),\n",
              "                                 Index([&#x27;Item_Fat_Content&#x27;, &#x27;Item_Type&#x27;, &#x27;Outlet_Identifier&#x27;, &#x27;Outlet_Size&#x27;,\n",
              "       &#x27;Outlet_Location_Type&#x27;, &#x27;Outlet_Type&#x27;],\n",
              "      dtype=&#x27;object&#x27;))],\n",
              "                  verbose_feature_names_out=False)</pre></div></div></div><div class=\"sk-parallel\"><div class=\"sk-parallel-item\"><div class=\"sk-item\"><div class=\"sk-label-container\"><div class=\"sk-label sk-toggleable\"><input class=\"sk-toggleable__control sk-hidden--visually\" id=\"sk-estimator-id-9\" type=\"checkbox\" ><label for=\"sk-estimator-id-9\" class=\"sk-toggleable__label sk-toggleable__label-arrow\">numeric</label><div class=\"sk-toggleable__content\"><pre>Index([&#x27;Item_Weight&#x27;, &#x27;Item_Visibility&#x27;, &#x27;Item_MRP&#x27;,\n",
              "       &#x27;Outlet_Establishment_Year&#x27;],\n",
              "      dtype=&#x27;object&#x27;)</pre></div></div></div><div class=\"sk-serial\"><div class=\"sk-item\"><div class=\"sk-serial\"><div class=\"sk-item\"><div class=\"sk-estimator sk-toggleable\"><input class=\"sk-toggleable__control sk-hidden--visually\" id=\"sk-estimator-id-10\" type=\"checkbox\" ><label for=\"sk-estimator-id-10\" class=\"sk-toggleable__label sk-toggleable__label-arrow\">SimpleImputer</label><div class=\"sk-toggleable__content\"><pre>SimpleImputer()</pre></div></div></div><div class=\"sk-item\"><div class=\"sk-estimator sk-toggleable\"><input class=\"sk-toggleable__control sk-hidden--visually\" id=\"sk-estimator-id-11\" type=\"checkbox\" ><label for=\"sk-estimator-id-11\" class=\"sk-toggleable__label sk-toggleable__label-arrow\">StandardScaler</label><div class=\"sk-toggleable__content\"><pre>StandardScaler()</pre></div></div></div></div></div></div></div></div><div class=\"sk-parallel-item\"><div class=\"sk-item\"><div class=\"sk-label-container\"><div class=\"sk-label sk-toggleable\"><input class=\"sk-toggleable__control sk-hidden--visually\" id=\"sk-estimator-id-12\" type=\"checkbox\" ><label for=\"sk-estimator-id-12\" class=\"sk-toggleable__label sk-toggleable__label-arrow\">categorical</label><div class=\"sk-toggleable__content\"><pre>Index([&#x27;Item_Fat_Content&#x27;, &#x27;Item_Type&#x27;, &#x27;Outlet_Identifier&#x27;, &#x27;Outlet_Size&#x27;,\n",
              "       &#x27;Outlet_Location_Type&#x27;, &#x27;Outlet_Type&#x27;],\n",
              "      dtype=&#x27;object&#x27;)</pre></div></div></div><div class=\"sk-serial\"><div class=\"sk-item\"><div class=\"sk-serial\"><div class=\"sk-item\"><div class=\"sk-estimator sk-toggleable\"><input class=\"sk-toggleable__control sk-hidden--visually\" id=\"sk-estimator-id-13\" type=\"checkbox\" ><label for=\"sk-estimator-id-13\" class=\"sk-toggleable__label sk-toggleable__label-arrow\">SimpleImputer</label><div class=\"sk-toggleable__content\"><pre>SimpleImputer(fill_value=&#x27;MISSING&#x27;, strategy=&#x27;constant&#x27;)</pre></div></div></div><div class=\"sk-item\"><div class=\"sk-estimator sk-toggleable\"><input class=\"sk-toggleable__control sk-hidden--visually\" id=\"sk-estimator-id-14\" type=\"checkbox\" ><label for=\"sk-estimator-id-14\" class=\"sk-toggleable__label sk-toggleable__label-arrow\">OneHotEncoder</label><div class=\"sk-toggleable__content\"><pre>OneHotEncoder(handle_unknown=&#x27;ignore&#x27;, sparse_output=False)</pre></div></div></div></div></div></div></div></div></div></div></div></div>"
            ]
          },
          "metadata": {},
          "execution_count": 35
        }
      ]
    },
    {
      "cell_type": "code",
      "source": [
        "col_transformer.fit(X_train)"
      ],
      "metadata": {
        "colab": {
          "base_uri": "https://localhost:8080/",
          "height": 155
        },
        "id": "r81o5nY4LvVf",
        "outputId": "9dd00154-e030-49d7-eace-275208d796d5"
      },
      "execution_count": null,
      "outputs": [
        {
          "output_type": "execute_result",
          "data": {
            "text/plain": [
              "ColumnTransformer(transformers=[('numeric',\n",
              "                                 Pipeline(steps=[('simpleimputer',\n",
              "                                                  SimpleImputer()),\n",
              "                                                 ('standardscaler',\n",
              "                                                  StandardScaler())]),\n",
              "                                 Index(['Item_Weight', 'Item_Visibility', 'Item_MRP',\n",
              "       'Outlet_Establishment_Year'],\n",
              "      dtype='object')),\n",
              "                                ('categorical',\n",
              "                                 Pipeline(steps=[('simpleimputer',\n",
              "                                                  SimpleImputer(fill_value='MISSING',\n",
              "                                                                strategy='constant')),\n",
              "                                                 ('onehotencoder',\n",
              "                                                  OneHotEncoder(handle_unknown='ignore',\n",
              "                                                                sparse_output=False))]),\n",
              "                                 Index(['Item_Fat_Content', 'Item_Type', 'Outlet_Identifier', 'Outlet_Size',\n",
              "       'Outlet_Location_Type', 'Outlet_Type'],\n",
              "      dtype='object'))],\n",
              "                  verbose_feature_names_out=False)"
            ],
            "text/html": [
              "<style>#sk-container-id-3 {color: black;background-color: white;}#sk-container-id-3 pre{padding: 0;}#sk-container-id-3 div.sk-toggleable {background-color: white;}#sk-container-id-3 label.sk-toggleable__label {cursor: pointer;display: block;width: 100%;margin-bottom: 0;padding: 0.3em;box-sizing: border-box;text-align: center;}#sk-container-id-3 label.sk-toggleable__label-arrow:before {content: \"▸\";float: left;margin-right: 0.25em;color: #696969;}#sk-container-id-3 label.sk-toggleable__label-arrow:hover:before {color: black;}#sk-container-id-3 div.sk-estimator:hover label.sk-toggleable__label-arrow:before {color: black;}#sk-container-id-3 div.sk-toggleable__content {max-height: 0;max-width: 0;overflow: hidden;text-align: left;background-color: #f0f8ff;}#sk-container-id-3 div.sk-toggleable__content pre {margin: 0.2em;color: black;border-radius: 0.25em;background-color: #f0f8ff;}#sk-container-id-3 input.sk-toggleable__control:checked~div.sk-toggleable__content {max-height: 200px;max-width: 100%;overflow: auto;}#sk-container-id-3 input.sk-toggleable__control:checked~label.sk-toggleable__label-arrow:before {content: \"▾\";}#sk-container-id-3 div.sk-estimator input.sk-toggleable__control:checked~label.sk-toggleable__label {background-color: #d4ebff;}#sk-container-id-3 div.sk-label input.sk-toggleable__control:checked~label.sk-toggleable__label {background-color: #d4ebff;}#sk-container-id-3 input.sk-hidden--visually {border: 0;clip: rect(1px 1px 1px 1px);clip: rect(1px, 1px, 1px, 1px);height: 1px;margin: -1px;overflow: hidden;padding: 0;position: absolute;width: 1px;}#sk-container-id-3 div.sk-estimator {font-family: monospace;background-color: #f0f8ff;border: 1px dotted black;border-radius: 0.25em;box-sizing: border-box;margin-bottom: 0.5em;}#sk-container-id-3 div.sk-estimator:hover {background-color: #d4ebff;}#sk-container-id-3 div.sk-parallel-item::after {content: \"\";width: 100%;border-bottom: 1px solid gray;flex-grow: 1;}#sk-container-id-3 div.sk-label:hover label.sk-toggleable__label {background-color: #d4ebff;}#sk-container-id-3 div.sk-serial::before {content: \"\";position: absolute;border-left: 1px solid gray;box-sizing: border-box;top: 0;bottom: 0;left: 50%;z-index: 0;}#sk-container-id-3 div.sk-serial {display: flex;flex-direction: column;align-items: center;background-color: white;padding-right: 0.2em;padding-left: 0.2em;position: relative;}#sk-container-id-3 div.sk-item {position: relative;z-index: 1;}#sk-container-id-3 div.sk-parallel {display: flex;align-items: stretch;justify-content: center;background-color: white;position: relative;}#sk-container-id-3 div.sk-item::before, #sk-container-id-3 div.sk-parallel-item::before {content: \"\";position: absolute;border-left: 1px solid gray;box-sizing: border-box;top: 0;bottom: 0;left: 50%;z-index: -1;}#sk-container-id-3 div.sk-parallel-item {display: flex;flex-direction: column;z-index: 1;position: relative;background-color: white;}#sk-container-id-3 div.sk-parallel-item:first-child::after {align-self: flex-end;width: 50%;}#sk-container-id-3 div.sk-parallel-item:last-child::after {align-self: flex-start;width: 50%;}#sk-container-id-3 div.sk-parallel-item:only-child::after {width: 0;}#sk-container-id-3 div.sk-dashed-wrapped {border: 1px dashed gray;margin: 0 0.4em 0.5em 0.4em;box-sizing: border-box;padding-bottom: 0.4em;background-color: white;}#sk-container-id-3 div.sk-label label {font-family: monospace;font-weight: bold;display: inline-block;line-height: 1.2em;}#sk-container-id-3 div.sk-label-container {text-align: center;}#sk-container-id-3 div.sk-container {/* jupyter's `normalize.less` sets `[hidden] { display: none; }` but bootstrap.min.css set `[hidden] { display: none !important; }` so we also need the `!important` here to be able to override the default hidden behavior on the sphinx rendered scikit-learn.org. See: https://github.com/scikit-learn/scikit-learn/issues/21755 */display: inline-block !important;position: relative;}#sk-container-id-3 div.sk-text-repr-fallback {display: none;}</style><div id=\"sk-container-id-3\" class=\"sk-top-container\"><div class=\"sk-text-repr-fallback\"><pre>ColumnTransformer(transformers=[(&#x27;numeric&#x27;,\n",
              "                                 Pipeline(steps=[(&#x27;simpleimputer&#x27;,\n",
              "                                                  SimpleImputer()),\n",
              "                                                 (&#x27;standardscaler&#x27;,\n",
              "                                                  StandardScaler())]),\n",
              "                                 Index([&#x27;Item_Weight&#x27;, &#x27;Item_Visibility&#x27;, &#x27;Item_MRP&#x27;,\n",
              "       &#x27;Outlet_Establishment_Year&#x27;],\n",
              "      dtype=&#x27;object&#x27;)),\n",
              "                                (&#x27;categorical&#x27;,\n",
              "                                 Pipeline(steps=[(&#x27;simpleimputer&#x27;,\n",
              "                                                  SimpleImputer(fill_value=&#x27;MISSING&#x27;,\n",
              "                                                                strategy=&#x27;constant&#x27;)),\n",
              "                                                 (&#x27;onehotencoder&#x27;,\n",
              "                                                  OneHotEncoder(handle_unknown=&#x27;ignore&#x27;,\n",
              "                                                                sparse_output=False))]),\n",
              "                                 Index([&#x27;Item_Fat_Content&#x27;, &#x27;Item_Type&#x27;, &#x27;Outlet_Identifier&#x27;, &#x27;Outlet_Size&#x27;,\n",
              "       &#x27;Outlet_Location_Type&#x27;, &#x27;Outlet_Type&#x27;],\n",
              "      dtype=&#x27;object&#x27;))],\n",
              "                  verbose_feature_names_out=False)</pre><b>In a Jupyter environment, please rerun this cell to show the HTML representation or trust the notebook. <br />On GitHub, the HTML representation is unable to render, please try loading this page with nbviewer.org.</b></div><div class=\"sk-container\" hidden><div class=\"sk-item sk-dashed-wrapped\"><div class=\"sk-label-container\"><div class=\"sk-label sk-toggleable\"><input class=\"sk-toggleable__control sk-hidden--visually\" id=\"sk-estimator-id-15\" type=\"checkbox\" ><label for=\"sk-estimator-id-15\" class=\"sk-toggleable__label sk-toggleable__label-arrow\">ColumnTransformer</label><div class=\"sk-toggleable__content\"><pre>ColumnTransformer(transformers=[(&#x27;numeric&#x27;,\n",
              "                                 Pipeline(steps=[(&#x27;simpleimputer&#x27;,\n",
              "                                                  SimpleImputer()),\n",
              "                                                 (&#x27;standardscaler&#x27;,\n",
              "                                                  StandardScaler())]),\n",
              "                                 Index([&#x27;Item_Weight&#x27;, &#x27;Item_Visibility&#x27;, &#x27;Item_MRP&#x27;,\n",
              "       &#x27;Outlet_Establishment_Year&#x27;],\n",
              "      dtype=&#x27;object&#x27;)),\n",
              "                                (&#x27;categorical&#x27;,\n",
              "                                 Pipeline(steps=[(&#x27;simpleimputer&#x27;,\n",
              "                                                  SimpleImputer(fill_value=&#x27;MISSING&#x27;,\n",
              "                                                                strategy=&#x27;constant&#x27;)),\n",
              "                                                 (&#x27;onehotencoder&#x27;,\n",
              "                                                  OneHotEncoder(handle_unknown=&#x27;ignore&#x27;,\n",
              "                                                                sparse_output=False))]),\n",
              "                                 Index([&#x27;Item_Fat_Content&#x27;, &#x27;Item_Type&#x27;, &#x27;Outlet_Identifier&#x27;, &#x27;Outlet_Size&#x27;,\n",
              "       &#x27;Outlet_Location_Type&#x27;, &#x27;Outlet_Type&#x27;],\n",
              "      dtype=&#x27;object&#x27;))],\n",
              "                  verbose_feature_names_out=False)</pre></div></div></div><div class=\"sk-parallel\"><div class=\"sk-parallel-item\"><div class=\"sk-item\"><div class=\"sk-label-container\"><div class=\"sk-label sk-toggleable\"><input class=\"sk-toggleable__control sk-hidden--visually\" id=\"sk-estimator-id-16\" type=\"checkbox\" ><label for=\"sk-estimator-id-16\" class=\"sk-toggleable__label sk-toggleable__label-arrow\">numeric</label><div class=\"sk-toggleable__content\"><pre>Index([&#x27;Item_Weight&#x27;, &#x27;Item_Visibility&#x27;, &#x27;Item_MRP&#x27;,\n",
              "       &#x27;Outlet_Establishment_Year&#x27;],\n",
              "      dtype=&#x27;object&#x27;)</pre></div></div></div><div class=\"sk-serial\"><div class=\"sk-item\"><div class=\"sk-serial\"><div class=\"sk-item\"><div class=\"sk-estimator sk-toggleable\"><input class=\"sk-toggleable__control sk-hidden--visually\" id=\"sk-estimator-id-17\" type=\"checkbox\" ><label for=\"sk-estimator-id-17\" class=\"sk-toggleable__label sk-toggleable__label-arrow\">SimpleImputer</label><div class=\"sk-toggleable__content\"><pre>SimpleImputer()</pre></div></div></div><div class=\"sk-item\"><div class=\"sk-estimator sk-toggleable\"><input class=\"sk-toggleable__control sk-hidden--visually\" id=\"sk-estimator-id-18\" type=\"checkbox\" ><label for=\"sk-estimator-id-18\" class=\"sk-toggleable__label sk-toggleable__label-arrow\">StandardScaler</label><div class=\"sk-toggleable__content\"><pre>StandardScaler()</pre></div></div></div></div></div></div></div></div><div class=\"sk-parallel-item\"><div class=\"sk-item\"><div class=\"sk-label-container\"><div class=\"sk-label sk-toggleable\"><input class=\"sk-toggleable__control sk-hidden--visually\" id=\"sk-estimator-id-19\" type=\"checkbox\" ><label for=\"sk-estimator-id-19\" class=\"sk-toggleable__label sk-toggleable__label-arrow\">categorical</label><div class=\"sk-toggleable__content\"><pre>Index([&#x27;Item_Fat_Content&#x27;, &#x27;Item_Type&#x27;, &#x27;Outlet_Identifier&#x27;, &#x27;Outlet_Size&#x27;,\n",
              "       &#x27;Outlet_Location_Type&#x27;, &#x27;Outlet_Type&#x27;],\n",
              "      dtype=&#x27;object&#x27;)</pre></div></div></div><div class=\"sk-serial\"><div class=\"sk-item\"><div class=\"sk-serial\"><div class=\"sk-item\"><div class=\"sk-estimator sk-toggleable\"><input class=\"sk-toggleable__control sk-hidden--visually\" id=\"sk-estimator-id-20\" type=\"checkbox\" ><label for=\"sk-estimator-id-20\" class=\"sk-toggleable__label sk-toggleable__label-arrow\">SimpleImputer</label><div class=\"sk-toggleable__content\"><pre>SimpleImputer(fill_value=&#x27;MISSING&#x27;, strategy=&#x27;constant&#x27;)</pre></div></div></div><div class=\"sk-item\"><div class=\"sk-estimator sk-toggleable\"><input class=\"sk-toggleable__control sk-hidden--visually\" id=\"sk-estimator-id-21\" type=\"checkbox\" ><label for=\"sk-estimator-id-21\" class=\"sk-toggleable__label sk-toggleable__label-arrow\">OneHotEncoder</label><div class=\"sk-toggleable__content\"><pre>OneHotEncoder(handle_unknown=&#x27;ignore&#x27;, sparse_output=False)</pre></div></div></div></div></div></div></div></div></div></div></div></div>"
            ]
          },
          "metadata": {},
          "execution_count": 36
        }
      ]
    },
    {
      "cell_type": "code",
      "source": [
        "X_train_processed = col_transformer.transform(X_train)\n",
        "X_test_processed = col_transformer.transform(X_test)"
      ],
      "metadata": {
        "id": "rdZLoRreL07e"
      },
      "execution_count": null,
      "outputs": []
    },
    {
      "cell_type": "code",
      "source": [
        "X_train_processed.head()"
      ],
      "metadata": {
        "colab": {
          "base_uri": "https://localhost:8080/",
          "height": 327
        },
        "id": "wBsvELqVMK_b",
        "outputId": "071ae6fa-5d22-4215-c763-2932cb8aefdd"
      },
      "execution_count": null,
      "outputs": [
        {
          "output_type": "execute_result",
          "data": {
            "text/plain": [
              "      Item_Weight  Item_Visibility  Item_MRP  Outlet_Establishment_Year  \\\n",
              "4776     0.817249        -0.712775  1.828109                   1.327849   \n",
              "7510     0.556340        -1.291052  0.603369                   1.327849   \n",
              "5828    -0.131512         1.813319  0.244541                   0.136187   \n",
              "5327    -1.169219        -1.004931 -0.952591                   0.732018   \n",
              "4810     1.528819        -0.965484 -0.336460                   0.493686   \n",
              "\n",
              "      Item_Fat_Content_Low Fat  Item_Fat_Content_Regular  \\\n",
              "4776                       1.0                       0.0   \n",
              "7510                       0.0                       1.0   \n",
              "5828                       0.0                       1.0   \n",
              "5327                       1.0                       0.0   \n",
              "4810                       1.0                       0.0   \n",
              "\n",
              "      Item_Type_Baking Goods  Item_Type_Breads  Item_Type_Breakfast  \\\n",
              "4776                     0.0               0.0                  0.0   \n",
              "7510                     0.0               0.0                  0.0   \n",
              "5828                     0.0               0.0                  0.0   \n",
              "5327                     1.0               0.0                  0.0   \n",
              "4810                     0.0               0.0                  0.0   \n",
              "\n",
              "      Item_Type_Canned  ...  Outlet_Size_MISSING  Outlet_Size_Medium  \\\n",
              "4776               0.0  ...                  0.0                 1.0   \n",
              "7510               0.0  ...                  0.0                 1.0   \n",
              "5828               0.0  ...                  0.0                 1.0   \n",
              "5327               0.0  ...                  0.0                 0.0   \n",
              "4810               0.0  ...                  1.0                 0.0   \n",
              "\n",
              "      Outlet_Size_Small  Outlet_Location_Type_Tier 1  \\\n",
              "4776                0.0                          0.0   \n",
              "7510                0.0                          0.0   \n",
              "5828                0.0                          1.0   \n",
              "5327                1.0                          0.0   \n",
              "4810                0.0                          0.0   \n",
              "\n",
              "      Outlet_Location_Type_Tier 2  Outlet_Location_Type_Tier 3  \\\n",
              "4776                          0.0                          1.0   \n",
              "7510                          0.0                          1.0   \n",
              "5828                          0.0                          0.0   \n",
              "5327                          1.0                          0.0   \n",
              "4810                          1.0                          0.0   \n",
              "\n",
              "      Outlet_Type_Grocery Store  Outlet_Type_Supermarket Type1  \\\n",
              "4776                        0.0                            0.0   \n",
              "7510                        0.0                            0.0   \n",
              "5828                        0.0                            1.0   \n",
              "5327                        0.0                            1.0   \n",
              "4810                        0.0                            1.0   \n",
              "\n",
              "      Outlet_Type_Supermarket Type2  Outlet_Type_Supermarket Type3  \n",
              "4776                            1.0                            0.0  \n",
              "7510                            1.0                            0.0  \n",
              "5828                            0.0                            0.0  \n",
              "5327                            0.0                            0.0  \n",
              "4810                            0.0                            0.0  \n",
              "\n",
              "[5 rows x 43 columns]"
            ],
            "text/html": [
              "\n",
              "  <div id=\"df-fe67b13c-b16d-4318-a866-6c163c38cf1a\">\n",
              "    <div class=\"colab-df-container\">\n",
              "      <div>\n",
              "<style scoped>\n",
              "    .dataframe tbody tr th:only-of-type {\n",
              "        vertical-align: middle;\n",
              "    }\n",
              "\n",
              "    .dataframe tbody tr th {\n",
              "        vertical-align: top;\n",
              "    }\n",
              "\n",
              "    .dataframe thead th {\n",
              "        text-align: right;\n",
              "    }\n",
              "</style>\n",
              "<table border=\"1\" class=\"dataframe\">\n",
              "  <thead>\n",
              "    <tr style=\"text-align: right;\">\n",
              "      <th></th>\n",
              "      <th>Item_Weight</th>\n",
              "      <th>Item_Visibility</th>\n",
              "      <th>Item_MRP</th>\n",
              "      <th>Outlet_Establishment_Year</th>\n",
              "      <th>Item_Fat_Content_Low Fat</th>\n",
              "      <th>Item_Fat_Content_Regular</th>\n",
              "      <th>Item_Type_Baking Goods</th>\n",
              "      <th>Item_Type_Breads</th>\n",
              "      <th>Item_Type_Breakfast</th>\n",
              "      <th>Item_Type_Canned</th>\n",
              "      <th>...</th>\n",
              "      <th>Outlet_Size_MISSING</th>\n",
              "      <th>Outlet_Size_Medium</th>\n",
              "      <th>Outlet_Size_Small</th>\n",
              "      <th>Outlet_Location_Type_Tier 1</th>\n",
              "      <th>Outlet_Location_Type_Tier 2</th>\n",
              "      <th>Outlet_Location_Type_Tier 3</th>\n",
              "      <th>Outlet_Type_Grocery Store</th>\n",
              "      <th>Outlet_Type_Supermarket Type1</th>\n",
              "      <th>Outlet_Type_Supermarket Type2</th>\n",
              "      <th>Outlet_Type_Supermarket Type3</th>\n",
              "    </tr>\n",
              "  </thead>\n",
              "  <tbody>\n",
              "    <tr>\n",
              "      <th>4776</th>\n",
              "      <td>0.817249</td>\n",
              "      <td>-0.712775</td>\n",
              "      <td>1.828109</td>\n",
              "      <td>1.327849</td>\n",
              "      <td>1.0</td>\n",
              "      <td>0.0</td>\n",
              "      <td>0.0</td>\n",
              "      <td>0.0</td>\n",
              "      <td>0.0</td>\n",
              "      <td>0.0</td>\n",
              "      <td>...</td>\n",
              "      <td>0.0</td>\n",
              "      <td>1.0</td>\n",
              "      <td>0.0</td>\n",
              "      <td>0.0</td>\n",
              "      <td>0.0</td>\n",
              "      <td>1.0</td>\n",
              "      <td>0.0</td>\n",
              "      <td>0.0</td>\n",
              "      <td>1.0</td>\n",
              "      <td>0.0</td>\n",
              "    </tr>\n",
              "    <tr>\n",
              "      <th>7510</th>\n",
              "      <td>0.556340</td>\n",
              "      <td>-1.291052</td>\n",
              "      <td>0.603369</td>\n",
              "      <td>1.327849</td>\n",
              "      <td>0.0</td>\n",
              "      <td>1.0</td>\n",
              "      <td>0.0</td>\n",
              "      <td>0.0</td>\n",
              "      <td>0.0</td>\n",
              "      <td>0.0</td>\n",
              "      <td>...</td>\n",
              "      <td>0.0</td>\n",
              "      <td>1.0</td>\n",
              "      <td>0.0</td>\n",
              "      <td>0.0</td>\n",
              "      <td>0.0</td>\n",
              "      <td>1.0</td>\n",
              "      <td>0.0</td>\n",
              "      <td>0.0</td>\n",
              "      <td>1.0</td>\n",
              "      <td>0.0</td>\n",
              "    </tr>\n",
              "    <tr>\n",
              "      <th>5828</th>\n",
              "      <td>-0.131512</td>\n",
              "      <td>1.813319</td>\n",
              "      <td>0.244541</td>\n",
              "      <td>0.136187</td>\n",
              "      <td>0.0</td>\n",
              "      <td>1.0</td>\n",
              "      <td>0.0</td>\n",
              "      <td>0.0</td>\n",
              "      <td>0.0</td>\n",
              "      <td>0.0</td>\n",
              "      <td>...</td>\n",
              "      <td>0.0</td>\n",
              "      <td>1.0</td>\n",
              "      <td>0.0</td>\n",
              "      <td>1.0</td>\n",
              "      <td>0.0</td>\n",
              "      <td>0.0</td>\n",
              "      <td>0.0</td>\n",
              "      <td>1.0</td>\n",
              "      <td>0.0</td>\n",
              "      <td>0.0</td>\n",
              "    </tr>\n",
              "    <tr>\n",
              "      <th>5327</th>\n",
              "      <td>-1.169219</td>\n",
              "      <td>-1.004931</td>\n",
              "      <td>-0.952591</td>\n",
              "      <td>0.732018</td>\n",
              "      <td>1.0</td>\n",
              "      <td>0.0</td>\n",
              "      <td>1.0</td>\n",
              "      <td>0.0</td>\n",
              "      <td>0.0</td>\n",
              "      <td>0.0</td>\n",
              "      <td>...</td>\n",
              "      <td>0.0</td>\n",
              "      <td>0.0</td>\n",
              "      <td>1.0</td>\n",
              "      <td>0.0</td>\n",
              "      <td>1.0</td>\n",
              "      <td>0.0</td>\n",
              "      <td>0.0</td>\n",
              "      <td>1.0</td>\n",
              "      <td>0.0</td>\n",
              "      <td>0.0</td>\n",
              "    </tr>\n",
              "    <tr>\n",
              "      <th>4810</th>\n",
              "      <td>1.528819</td>\n",
              "      <td>-0.965484</td>\n",
              "      <td>-0.336460</td>\n",
              "      <td>0.493686</td>\n",
              "      <td>1.0</td>\n",
              "      <td>0.0</td>\n",
              "      <td>0.0</td>\n",
              "      <td>0.0</td>\n",
              "      <td>0.0</td>\n",
              "      <td>0.0</td>\n",
              "      <td>...</td>\n",
              "      <td>1.0</td>\n",
              "      <td>0.0</td>\n",
              "      <td>0.0</td>\n",
              "      <td>0.0</td>\n",
              "      <td>1.0</td>\n",
              "      <td>0.0</td>\n",
              "      <td>0.0</td>\n",
              "      <td>1.0</td>\n",
              "      <td>0.0</td>\n",
              "      <td>0.0</td>\n",
              "    </tr>\n",
              "  </tbody>\n",
              "</table>\n",
              "<p>5 rows × 43 columns</p>\n",
              "</div>\n",
              "      <button class=\"colab-df-convert\" onclick=\"convertToInteractive('df-fe67b13c-b16d-4318-a866-6c163c38cf1a')\"\n",
              "              title=\"Convert this dataframe to an interactive table.\"\n",
              "              style=\"display:none;\">\n",
              "        \n",
              "  <svg xmlns=\"http://www.w3.org/2000/svg\" height=\"24px\"viewBox=\"0 0 24 24\"\n",
              "       width=\"24px\">\n",
              "    <path d=\"M0 0h24v24H0V0z\" fill=\"none\"/>\n",
              "    <path d=\"M18.56 5.44l.94 2.06.94-2.06 2.06-.94-2.06-.94-.94-2.06-.94 2.06-2.06.94zm-11 1L8.5 8.5l.94-2.06 2.06-.94-2.06-.94L8.5 2.5l-.94 2.06-2.06.94zm10 10l.94 2.06.94-2.06 2.06-.94-2.06-.94-.94-2.06-.94 2.06-2.06.94z\"/><path d=\"M17.41 7.96l-1.37-1.37c-.4-.4-.92-.59-1.43-.59-.52 0-1.04.2-1.43.59L10.3 9.45l-7.72 7.72c-.78.78-.78 2.05 0 2.83L4 21.41c.39.39.9.59 1.41.59.51 0 1.02-.2 1.41-.59l7.78-7.78 2.81-2.81c.8-.78.8-2.07 0-2.86zM5.41 20L4 18.59l7.72-7.72 1.47 1.35L5.41 20z\"/>\n",
              "  </svg>\n",
              "      </button>\n",
              "      \n",
              "  <style>\n",
              "    .colab-df-container {\n",
              "      display:flex;\n",
              "      flex-wrap:wrap;\n",
              "      gap: 12px;\n",
              "    }\n",
              "\n",
              "    .colab-df-convert {\n",
              "      background-color: #E8F0FE;\n",
              "      border: none;\n",
              "      border-radius: 50%;\n",
              "      cursor: pointer;\n",
              "      display: none;\n",
              "      fill: #1967D2;\n",
              "      height: 32px;\n",
              "      padding: 0 0 0 0;\n",
              "      width: 32px;\n",
              "    }\n",
              "\n",
              "    .colab-df-convert:hover {\n",
              "      background-color: #E2EBFA;\n",
              "      box-shadow: 0px 1px 2px rgba(60, 64, 67, 0.3), 0px 1px 3px 1px rgba(60, 64, 67, 0.15);\n",
              "      fill: #174EA6;\n",
              "    }\n",
              "\n",
              "    [theme=dark] .colab-df-convert {\n",
              "      background-color: #3B4455;\n",
              "      fill: #D2E3FC;\n",
              "    }\n",
              "\n",
              "    [theme=dark] .colab-df-convert:hover {\n",
              "      background-color: #434B5C;\n",
              "      box-shadow: 0px 1px 3px 1px rgba(0, 0, 0, 0.15);\n",
              "      filter: drop-shadow(0px 1px 2px rgba(0, 0, 0, 0.3));\n",
              "      fill: #FFFFFF;\n",
              "    }\n",
              "  </style>\n",
              "\n",
              "      <script>\n",
              "        const buttonEl =\n",
              "          document.querySelector('#df-fe67b13c-b16d-4318-a866-6c163c38cf1a button.colab-df-convert');\n",
              "        buttonEl.style.display =\n",
              "          google.colab.kernel.accessAllowed ? 'block' : 'none';\n",
              "\n",
              "        async function convertToInteractive(key) {\n",
              "          const element = document.querySelector('#df-fe67b13c-b16d-4318-a866-6c163c38cf1a');\n",
              "          const dataTable =\n",
              "            await google.colab.kernel.invokeFunction('convertToInteractive',\n",
              "                                                     [key], {});\n",
              "          if (!dataTable) return;\n",
              "\n",
              "          const docLinkHtml = 'Like what you see? Visit the ' +\n",
              "            '<a target=\"_blank\" href=https://colab.research.google.com/notebooks/data_table.ipynb>data table notebook</a>'\n",
              "            + ' to learn more about interactive tables.';\n",
              "          element.innerHTML = '';\n",
              "          dataTable['output_type'] = 'display_data';\n",
              "          await google.colab.output.renderOutput(dataTable, element);\n",
              "          const docLink = document.createElement('div');\n",
              "          docLink.innerHTML = docLinkHtml;\n",
              "          element.appendChild(docLink);\n",
              "        }\n",
              "      </script>\n",
              "    </div>\n",
              "  </div>\n",
              "  "
            ]
          },
          "metadata": {},
          "execution_count": 38
        }
      ]
    },
    {
      "cell_type": "code",
      "source": [
        "X_test_processed.head()"
      ],
      "metadata": {
        "colab": {
          "base_uri": "https://localhost:8080/",
          "height": 327
        },
        "id": "Esk-3HicMF7n",
        "outputId": "7e53c507-140c-43a7-b346-1c7b8fd35e35"
      },
      "execution_count": null,
      "outputs": [
        {
          "output_type": "execute_result",
          "data": {
            "text/plain": [
              "       Item_Weight  Item_Visibility  Item_MRP  Outlet_Establishment_Year  \\\n",
              "7503  3.310089e-01        -0.776646 -0.998816                  -1.293807   \n",
              "2957 -1.179892e+00         0.100317 -1.585194                  -0.102145   \n",
              "7031  3.784469e-01        -0.482994 -1.595784                   0.136187   \n",
              "1084  4.213344e-16        -0.415440  0.506592                  -1.532139   \n",
              "856  -6.426567e-01        -1.047426  0.886725                   0.732018   \n",
              "\n",
              "      Item_Fat_Content_Low Fat  Item_Fat_Content_Regular  \\\n",
              "7503                       1.0                       0.0   \n",
              "2957                       1.0                       0.0   \n",
              "7031                       0.0                       1.0   \n",
              "1084                       0.0                       1.0   \n",
              "856                        0.0                       1.0   \n",
              "\n",
              "      Item_Type_Baking Goods  Item_Type_Breads  Item_Type_Breakfast  \\\n",
              "7503                     0.0               0.0                  0.0   \n",
              "2957                     0.0               0.0                  0.0   \n",
              "7031                     0.0               0.0                  0.0   \n",
              "1084                     0.0               0.0                  0.0   \n",
              "856                      0.0               0.0                  0.0   \n",
              "\n",
              "      Item_Type_Canned  ...  Outlet_Size_MISSING  Outlet_Size_Medium  \\\n",
              "7503               0.0  ...                  0.0                 0.0   \n",
              "2957               0.0  ...                  0.0                 0.0   \n",
              "7031               1.0  ...                  0.0                 1.0   \n",
              "1084               0.0  ...                  0.0                 1.0   \n",
              "856                0.0  ...                  0.0                 0.0   \n",
              "\n",
              "      Outlet_Size_Small  Outlet_Location_Type_Tier 1  \\\n",
              "7503                0.0                          0.0   \n",
              "2957                1.0                          1.0   \n",
              "7031                0.0                          1.0   \n",
              "1084                0.0                          0.0   \n",
              "856                 1.0                          0.0   \n",
              "\n",
              "      Outlet_Location_Type_Tier 2  Outlet_Location_Type_Tier 3  \\\n",
              "7503                          0.0                          1.0   \n",
              "2957                          0.0                          0.0   \n",
              "7031                          0.0                          0.0   \n",
              "1084                          0.0                          1.0   \n",
              "856                           1.0                          0.0   \n",
              "\n",
              "      Outlet_Type_Grocery Store  Outlet_Type_Supermarket Type1  \\\n",
              "7503                        0.0                            1.0   \n",
              "2957                        0.0                            1.0   \n",
              "7031                        0.0                            1.0   \n",
              "1084                        0.0                            0.0   \n",
              "856                         0.0                            1.0   \n",
              "\n",
              "      Outlet_Type_Supermarket Type2  Outlet_Type_Supermarket Type3  \n",
              "7503                            0.0                            0.0  \n",
              "2957                            0.0                            0.0  \n",
              "7031                            0.0                            0.0  \n",
              "1084                            0.0                            1.0  \n",
              "856                             0.0                            0.0  \n",
              "\n",
              "[5 rows x 43 columns]"
            ],
            "text/html": [
              "\n",
              "  <div id=\"df-58c8aa89-c401-40c0-a318-f2e6c9179690\">\n",
              "    <div class=\"colab-df-container\">\n",
              "      <div>\n",
              "<style scoped>\n",
              "    .dataframe tbody tr th:only-of-type {\n",
              "        vertical-align: middle;\n",
              "    }\n",
              "\n",
              "    .dataframe tbody tr th {\n",
              "        vertical-align: top;\n",
              "    }\n",
              "\n",
              "    .dataframe thead th {\n",
              "        text-align: right;\n",
              "    }\n",
              "</style>\n",
              "<table border=\"1\" class=\"dataframe\">\n",
              "  <thead>\n",
              "    <tr style=\"text-align: right;\">\n",
              "      <th></th>\n",
              "      <th>Item_Weight</th>\n",
              "      <th>Item_Visibility</th>\n",
              "      <th>Item_MRP</th>\n",
              "      <th>Outlet_Establishment_Year</th>\n",
              "      <th>Item_Fat_Content_Low Fat</th>\n",
              "      <th>Item_Fat_Content_Regular</th>\n",
              "      <th>Item_Type_Baking Goods</th>\n",
              "      <th>Item_Type_Breads</th>\n",
              "      <th>Item_Type_Breakfast</th>\n",
              "      <th>Item_Type_Canned</th>\n",
              "      <th>...</th>\n",
              "      <th>Outlet_Size_MISSING</th>\n",
              "      <th>Outlet_Size_Medium</th>\n",
              "      <th>Outlet_Size_Small</th>\n",
              "      <th>Outlet_Location_Type_Tier 1</th>\n",
              "      <th>Outlet_Location_Type_Tier 2</th>\n",
              "      <th>Outlet_Location_Type_Tier 3</th>\n",
              "      <th>Outlet_Type_Grocery Store</th>\n",
              "      <th>Outlet_Type_Supermarket Type1</th>\n",
              "      <th>Outlet_Type_Supermarket Type2</th>\n",
              "      <th>Outlet_Type_Supermarket Type3</th>\n",
              "    </tr>\n",
              "  </thead>\n",
              "  <tbody>\n",
              "    <tr>\n",
              "      <th>7503</th>\n",
              "      <td>3.310089e-01</td>\n",
              "      <td>-0.776646</td>\n",
              "      <td>-0.998816</td>\n",
              "      <td>-1.293807</td>\n",
              "      <td>1.0</td>\n",
              "      <td>0.0</td>\n",
              "      <td>0.0</td>\n",
              "      <td>0.0</td>\n",
              "      <td>0.0</td>\n",
              "      <td>0.0</td>\n",
              "      <td>...</td>\n",
              "      <td>0.0</td>\n",
              "      <td>0.0</td>\n",
              "      <td>0.0</td>\n",
              "      <td>0.0</td>\n",
              "      <td>0.0</td>\n",
              "      <td>1.0</td>\n",
              "      <td>0.0</td>\n",
              "      <td>1.0</td>\n",
              "      <td>0.0</td>\n",
              "      <td>0.0</td>\n",
              "    </tr>\n",
              "    <tr>\n",
              "      <th>2957</th>\n",
              "      <td>-1.179892e+00</td>\n",
              "      <td>0.100317</td>\n",
              "      <td>-1.585194</td>\n",
              "      <td>-0.102145</td>\n",
              "      <td>1.0</td>\n",
              "      <td>0.0</td>\n",
              "      <td>0.0</td>\n",
              "      <td>0.0</td>\n",
              "      <td>0.0</td>\n",
              "      <td>0.0</td>\n",
              "      <td>...</td>\n",
              "      <td>0.0</td>\n",
              "      <td>0.0</td>\n",
              "      <td>1.0</td>\n",
              "      <td>1.0</td>\n",
              "      <td>0.0</td>\n",
              "      <td>0.0</td>\n",
              "      <td>0.0</td>\n",
              "      <td>1.0</td>\n",
              "      <td>0.0</td>\n",
              "      <td>0.0</td>\n",
              "    </tr>\n",
              "    <tr>\n",
              "      <th>7031</th>\n",
              "      <td>3.784469e-01</td>\n",
              "      <td>-0.482994</td>\n",
              "      <td>-1.595784</td>\n",
              "      <td>0.136187</td>\n",
              "      <td>0.0</td>\n",
              "      <td>1.0</td>\n",
              "      <td>0.0</td>\n",
              "      <td>0.0</td>\n",
              "      <td>0.0</td>\n",
              "      <td>1.0</td>\n",
              "      <td>...</td>\n",
              "      <td>0.0</td>\n",
              "      <td>1.0</td>\n",
              "      <td>0.0</td>\n",
              "      <td>1.0</td>\n",
              "      <td>0.0</td>\n",
              "      <td>0.0</td>\n",
              "      <td>0.0</td>\n",
              "      <td>1.0</td>\n",
              "      <td>0.0</td>\n",
              "      <td>0.0</td>\n",
              "    </tr>\n",
              "    <tr>\n",
              "      <th>1084</th>\n",
              "      <td>4.213344e-16</td>\n",
              "      <td>-0.415440</td>\n",
              "      <td>0.506592</td>\n",
              "      <td>-1.532139</td>\n",
              "      <td>0.0</td>\n",
              "      <td>1.0</td>\n",
              "      <td>0.0</td>\n",
              "      <td>0.0</td>\n",
              "      <td>0.0</td>\n",
              "      <td>0.0</td>\n",
              "      <td>...</td>\n",
              "      <td>0.0</td>\n",
              "      <td>1.0</td>\n",
              "      <td>0.0</td>\n",
              "      <td>0.0</td>\n",
              "      <td>0.0</td>\n",
              "      <td>1.0</td>\n",
              "      <td>0.0</td>\n",
              "      <td>0.0</td>\n",
              "      <td>0.0</td>\n",
              "      <td>1.0</td>\n",
              "    </tr>\n",
              "    <tr>\n",
              "      <th>856</th>\n",
              "      <td>-6.426567e-01</td>\n",
              "      <td>-1.047426</td>\n",
              "      <td>0.886725</td>\n",
              "      <td>0.732018</td>\n",
              "      <td>0.0</td>\n",
              "      <td>1.0</td>\n",
              "      <td>0.0</td>\n",
              "      <td>0.0</td>\n",
              "      <td>0.0</td>\n",
              "      <td>0.0</td>\n",
              "      <td>...</td>\n",
              "      <td>0.0</td>\n",
              "      <td>0.0</td>\n",
              "      <td>1.0</td>\n",
              "      <td>0.0</td>\n",
              "      <td>1.0</td>\n",
              "      <td>0.0</td>\n",
              "      <td>0.0</td>\n",
              "      <td>1.0</td>\n",
              "      <td>0.0</td>\n",
              "      <td>0.0</td>\n",
              "    </tr>\n",
              "  </tbody>\n",
              "</table>\n",
              "<p>5 rows × 43 columns</p>\n",
              "</div>\n",
              "      <button class=\"colab-df-convert\" onclick=\"convertToInteractive('df-58c8aa89-c401-40c0-a318-f2e6c9179690')\"\n",
              "              title=\"Convert this dataframe to an interactive table.\"\n",
              "              style=\"display:none;\">\n",
              "        \n",
              "  <svg xmlns=\"http://www.w3.org/2000/svg\" height=\"24px\"viewBox=\"0 0 24 24\"\n",
              "       width=\"24px\">\n",
              "    <path d=\"M0 0h24v24H0V0z\" fill=\"none\"/>\n",
              "    <path d=\"M18.56 5.44l.94 2.06.94-2.06 2.06-.94-2.06-.94-.94-2.06-.94 2.06-2.06.94zm-11 1L8.5 8.5l.94-2.06 2.06-.94-2.06-.94L8.5 2.5l-.94 2.06-2.06.94zm10 10l.94 2.06.94-2.06 2.06-.94-2.06-.94-.94-2.06-.94 2.06-2.06.94z\"/><path d=\"M17.41 7.96l-1.37-1.37c-.4-.4-.92-.59-1.43-.59-.52 0-1.04.2-1.43.59L10.3 9.45l-7.72 7.72c-.78.78-.78 2.05 0 2.83L4 21.41c.39.39.9.59 1.41.59.51 0 1.02-.2 1.41-.59l7.78-7.78 2.81-2.81c.8-.78.8-2.07 0-2.86zM5.41 20L4 18.59l7.72-7.72 1.47 1.35L5.41 20z\"/>\n",
              "  </svg>\n",
              "      </button>\n",
              "      \n",
              "  <style>\n",
              "    .colab-df-container {\n",
              "      display:flex;\n",
              "      flex-wrap:wrap;\n",
              "      gap: 12px;\n",
              "    }\n",
              "\n",
              "    .colab-df-convert {\n",
              "      background-color: #E8F0FE;\n",
              "      border: none;\n",
              "      border-radius: 50%;\n",
              "      cursor: pointer;\n",
              "      display: none;\n",
              "      fill: #1967D2;\n",
              "      height: 32px;\n",
              "      padding: 0 0 0 0;\n",
              "      width: 32px;\n",
              "    }\n",
              "\n",
              "    .colab-df-convert:hover {\n",
              "      background-color: #E2EBFA;\n",
              "      box-shadow: 0px 1px 2px rgba(60, 64, 67, 0.3), 0px 1px 3px 1px rgba(60, 64, 67, 0.15);\n",
              "      fill: #174EA6;\n",
              "    }\n",
              "\n",
              "    [theme=dark] .colab-df-convert {\n",
              "      background-color: #3B4455;\n",
              "      fill: #D2E3FC;\n",
              "    }\n",
              "\n",
              "    [theme=dark] .colab-df-convert:hover {\n",
              "      background-color: #434B5C;\n",
              "      box-shadow: 0px 1px 3px 1px rgba(0, 0, 0, 0.15);\n",
              "      filter: drop-shadow(0px 1px 2px rgba(0, 0, 0, 0.3));\n",
              "      fill: #FFFFFF;\n",
              "    }\n",
              "  </style>\n",
              "\n",
              "      <script>\n",
              "        const buttonEl =\n",
              "          document.querySelector('#df-58c8aa89-c401-40c0-a318-f2e6c9179690 button.colab-df-convert');\n",
              "        buttonEl.style.display =\n",
              "          google.colab.kernel.accessAllowed ? 'block' : 'none';\n",
              "\n",
              "        async function convertToInteractive(key) {\n",
              "          const element = document.querySelector('#df-58c8aa89-c401-40c0-a318-f2e6c9179690');\n",
              "          const dataTable =\n",
              "            await google.colab.kernel.invokeFunction('convertToInteractive',\n",
              "                                                     [key], {});\n",
              "          if (!dataTable) return;\n",
              "\n",
              "          const docLinkHtml = 'Like what you see? Visit the ' +\n",
              "            '<a target=\"_blank\" href=https://colab.research.google.com/notebooks/data_table.ipynb>data table notebook</a>'\n",
              "            + ' to learn more about interactive tables.';\n",
              "          element.innerHTML = '';\n",
              "          dataTable['output_type'] = 'display_data';\n",
              "          await google.colab.output.renderOutput(dataTable, element);\n",
              "          const docLink = document.createElement('div');\n",
              "          docLink.innerHTML = docLinkHtml;\n",
              "          element.appendChild(docLink);\n",
              "        }\n",
              "      </script>\n",
              "    </div>\n",
              "  </div>\n",
              "  "
            ]
          },
          "metadata": {},
          "execution_count": 39
        }
      ]
    }
  ]
}